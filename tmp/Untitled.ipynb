{
 "cells": [
  {
   "cell_type": "code",
   "execution_count": 72,
   "metadata": {},
   "outputs": [],
   "source": [
    "def get_example(load_example, eval_tracker, model, get_offsets):\n",
    "  \"\"\"Generates individual training examples.\n",
    "\n",
    "  Args:\n",
    "    load_example: callable returning a tuple of image and label ndarrays\n",
    "                  as well as the seed coordinate and volume name of the example\n",
    "    eval_tracker: EvalTracker object\n",
    "    model: FFNModel object\n",
    "    get_offsets: iterable of (x, y, z) offsets to investigate within the\n",
    "        training patch\n",
    "\n",
    "  Yields:\n",
    "    tuple of:\n",
    "      seed array, shape [1, z, y, x, 1]\n",
    "      image array, shape [1, z, y, x, 1]\n",
    "      label array, shape [1, z, y, x, 1]\n",
    "  \"\"\"\n",
    "  seed_shape = train_canvas_size(model).tolist()[::-1]\n",
    "\n",
    "  while True:\n",
    "    full_patches, full_labels, loss_weights, coord, volname = load_example()\n",
    "    # Always start with a clean seed.\n",
    "    seed = logit(mask.make_seed(seed_shape, 1, pad=FLAGS.seed_pad))\n",
    "\n",
    "    for off in get_offsets(model, seed):\n",
    "      predicted = mask.crop_and_pad(seed, off, model.input_seed_size[::-1])\n",
    "      patches = mask.crop_and_pad(full_patches, off, model.input_image_size[::-1])\n",
    "      labels = mask.crop_and_pad(full_labels, off, model.pred_mask_size[::-1])\n",
    "      weights = mask.crop_and_pad(loss_weights, off, model.pred_mask_size[::-1])\n",
    "\n",
    "      # Necessary, since the caller is going to update the array and these\n",
    "      # changes need to be visible in the following iterations.\n",
    "      assert predicted.base is seed\n",
    "      yield predicted, patches, labels, weights\n",
    "\n",
    "    eval_tracker.add_patch(\n",
    "        full_labels, seed, loss_weights, coord, volname, full_patches)\n",
    "    break"
   ]
  },
  {
   "cell_type": "code",
   "execution_count": 73,
   "metadata": {},
   "outputs": [],
   "source": [
    "def get_batch(load_example, eval_tracker, model, batch_size, get_offsets):\n",
    "  \"\"\"Generates batches of training examples.\n",
    "\n",
    "  Args:\n",
    "    load_example: callable returning a tuple of image and label ndarrays\n",
    "                  as well as the seed coordinate and volume name of the example\n",
    "    eval_tracker: EvalTracker object\n",
    "    model: FFNModel object\n",
    "    batch_size: desired batch size\n",
    "    get_offsets: iterable of (x, y, z) offsets to investigate within the\n",
    "        training patch\n",
    "\n",
    "  Yields:\n",
    "    tuple of:\n",
    "      seed array, shape [b, z, y, x, 1]\n",
    "      image array, shape [b, z, y, x, 1]\n",
    "      label array, shape [b, z, y, x, 1]\n",
    "\n",
    "    where 'b' is the batch_size.\n",
    "  \"\"\"\n",
    "  def _batch(iterable):\n",
    "    for batch_vals in iterable:\n",
    "      # `batch_vals` is sequence of `batch_size` tuples returned by the\n",
    "      # `get_example` generator, to which we apply the following transformation:\n",
    "      #   [(a0, b0), (a1, b1), .. (an, bn)] -> [(a0, a1, .., an),\n",
    "      #                                         (b0, b1, .., bn)]\n",
    "      # (where n is the batch size) to get a sequence, each element of which\n",
    "      # represents a batch of values of a given type (e.g., seed, image, etc.)\n",
    "      yield zip(*batch_vals)\n",
    "\n",
    "  # Create a separate generator for every element in the batch. This generator\n",
    "  # will automatically advance to a different training example once the allowed\n",
    "  # moves for the current location are exhausted.\n",
    "  for seeds, patches, labels, weights in _batch(six.moves.zip(\n",
    "      *[get_example(load_example, eval_tracker, model, get_offsets) for _\n",
    "        in range(batch_size)])):\n",
    "\n",
    "    batched_seeds = np.concatenate(seeds)\n",
    "\n",
    "    yield (batched_seeds, np.concatenate(patches), np.concatenate(labels),\n",
    "           np.concatenate(weights))\n",
    "\n",
    "    # batched_seed is updated in place with new predictions by the code\n",
    "    # calling get_batch. Here we distribute these updated predictions back\n",
    "    # to the buffer of every generator.\n",
    "    for i in range(batch_size):\n",
    "      seeds[i][:] = batched_seeds[i, ...]"
   ]
  },
  {
   "cell_type": "code",
   "execution_count": 141,
   "metadata": {},
   "outputs": [],
   "source": [
    "import six\n",
    "import numpy as np\n"
   ]
  },
  {
   "cell_type": "code",
   "execution_count": 142,
   "metadata": {},
   "outputs": [],
   "source": [
    "def _batch(iterable):\n",
    "    for batch_vals in iterable:\n",
    "        yield zip(*batch_vals)\n",
    "        "
   ]
  },
  {
   "cell_type": "code",
   "execution_count": 181,
   "metadata": {},
   "outputs": [],
   "source": [
    "def get_example():\n",
    "    while True:\n",
    "        for i in range(27): # offset duplicates\n",
    "#             print(i, \"it is i\")\n",
    "            predicted = np.full((1, 49, 49, 49, 1), 0)\n",
    "            patches = np.full((1, 49, 49, 49, 1), 1)\n",
    "            labels = np.full((1, 49, 49, 49, 1), 2)\n",
    "            yield predicted, patches, labels\n",
    "    "
   ]
  },
  {
   "cell_type": "code",
   "execution_count": 162,
   "metadata": {},
   "outputs": [
    {
     "name": "stdout",
     "output_type": "stream",
     "text": [
      "(1, 49, 49, 49, 1)\n",
      "(1, 49, 49, 49, 1)\n",
      "(1, 49, 49, 49, 1)\n"
     ]
    }
   ],
   "source": [
    "print(next(get_example())[0].shape) # seed array\n",
    "print(next(get_example())[1].shape) # image array\n",
    "print(next(get_example())[2].shape) # label array"
   ]
  },
  {
   "cell_type": "code",
   "execution_count": 163,
   "metadata": {},
   "outputs": [
    {
     "data": {
      "text/plain": [
       "<itertools.izip at 0x7fbb9d05a908>"
      ]
     },
     "execution_count": 163,
     "metadata": {},
     "output_type": "execute_result"
    }
   ],
   "source": [
    "six.moves.zip(*[get_example() for _ in range(batch_size)])"
   ]
  },
  {
   "cell_type": "code",
   "execution_count": 164,
   "metadata": {},
   "outputs": [
    {
     "data": {
      "text/plain": [
       "<generator object _batch at 0x7fbb9cc2b280>"
      ]
     },
     "execution_count": 164,
     "metadata": {},
     "output_type": "execute_result"
    }
   ],
   "source": [
    "_batch(six.moves.zip(*[get_example() for _ in range(batch_size)]))"
   ]
  },
  {
   "cell_type": "code",
   "execution_count": 227,
   "metadata": {},
   "outputs": [
    {
     "data": {
      "text/plain": [
       "8"
      ]
     },
     "execution_count": 227,
     "metadata": {},
     "output_type": "execute_result"
    }
   ],
   "source": [
    "seeds, patches, labels = next(_batch(six.moves.zip(*[get_example() for _ in range(batch_size)])))\n",
    "\n",
    "len(seeds)\n"
   ]
  },
  {
   "cell_type": "code",
   "execution_count": 222,
   "metadata": {},
   "outputs": [],
   "source": [
    "def get_batch():\n",
    "    batch_size = 8\n",
    "    step = 0\n",
    "\n",
    "    for seeds, patches, labels in _batch(six.moves.zip(*[get_example() for _ in range(batch_size)])): \n",
    "\n",
    "        batched_seeds = np.concatenate(seeds)\n",
    "        print(\"seeds shape\", len(seeds))\n",
    "\n",
    "        yield (batched_seeds, np.concatenate(patches), np.concatenate(labels))\n",
    "        \n",
    "        for i in range(batch_size):\n",
    "            print(\"batched_seeds[i, ...]\", i,batched_seeds[i, ...].shape)\n",
    "            seeds[i][:] = batched_seeds[i, ...]\n",
    "            "
   ]
  },
  {
   "cell_type": "code",
   "execution_count": 226,
   "metadata": {},
   "outputs": [
    {
     "name": "stdout",
     "output_type": "stream",
     "text": [
      "('seeds shape', 8)\n"
     ]
    }
   ],
   "source": [
    "seed, patches, labels = next(get_batch())\n",
    "    "
   ]
  },
  {
   "cell_type": "code",
   "execution_count": 224,
   "metadata": {},
   "outputs": [
    {
     "name": "stdout",
     "output_type": "stream",
     "text": [
      "(8, 49, 49, 49, 1)\n",
      "(8, 49, 49, 49, 1)\n",
      "(8, 49, 49, 49, 1)\n"
     ]
    }
   ],
   "source": [
    "print(seed.shape)\n",
    "print(patches.shape)\n",
    "print(labels.shape)\n"
   ]
  },
  {
   "cell_type": "code",
   "execution_count": 180,
   "metadata": {},
   "outputs": [
    {
     "name": "stdout",
     "output_type": "stream",
     "text": [
      "('seeds shape', 8)\n",
      "((8, 49, 49, 49, 1), (8, 49, 49, 49, 1), (8, 49, 49, 49, 1))\n",
      "('batched_seeds[i, ...]', 0, (49, 49, 49, 1))\n",
      "('batched_seeds[i, ...]', 1, (49, 49, 49, 1))\n",
      "('batched_seeds[i, ...]', 2, (49, 49, 49, 1))\n",
      "('batched_seeds[i, ...]', 3, (49, 49, 49, 1))\n",
      "('batched_seeds[i, ...]', 4, (49, 49, 49, 1))\n",
      "('batched_seeds[i, ...]', 5, (49, 49, 49, 1))\n",
      "('batched_seeds[i, ...]', 6, (49, 49, 49, 1))\n",
      "('batched_seeds[i, ...]', 7, (49, 49, 49, 1))\n",
      "('seeds shape', 8)\n",
      "((8, 49, 49, 49, 1), (8, 49, 49, 49, 1), (8, 49, 49, 49, 1))\n",
      "('batched_seeds[i, ...]', 0, (49, 49, 49, 1))\n",
      "('batched_seeds[i, ...]', 1, (49, 49, 49, 1))\n",
      "('batched_seeds[i, ...]', 2, (49, 49, 49, 1))\n",
      "('batched_seeds[i, ...]', 3, (49, 49, 49, 1))\n",
      "('batched_seeds[i, ...]', 4, (49, 49, 49, 1))\n",
      "('batched_seeds[i, ...]', 5, (49, 49, 49, 1))\n",
      "('batched_seeds[i, ...]', 6, (49, 49, 49, 1))\n",
      "('batched_seeds[i, ...]', 7, (49, 49, 49, 1))\n",
      "('seeds shape', 8)\n",
      "((8, 49, 49, 49, 1), (8, 49, 49, 49, 1), (8, 49, 49, 49, 1))\n",
      "('batched_seeds[i, ...]', 0, (49, 49, 49, 1))\n",
      "('batched_seeds[i, ...]', 1, (49, 49, 49, 1))\n",
      "('batched_seeds[i, ...]', 2, (49, 49, 49, 1))\n",
      "('batched_seeds[i, ...]', 3, (49, 49, 49, 1))\n",
      "('batched_seeds[i, ...]', 4, (49, 49, 49, 1))\n",
      "('batched_seeds[i, ...]', 5, (49, 49, 49, 1))\n",
      "('batched_seeds[i, ...]', 6, (49, 49, 49, 1))\n",
      "('batched_seeds[i, ...]', 7, (49, 49, 49, 1))\n",
      "('seeds shape', 8)\n",
      "((8, 49, 49, 49, 1), (8, 49, 49, 49, 1), (8, 49, 49, 49, 1))\n",
      "('batched_seeds[i, ...]', 0, (49, 49, 49, 1))\n",
      "('batched_seeds[i, ...]', 1, (49, 49, 49, 1))\n",
      "('batched_seeds[i, ...]', 2, (49, 49, 49, 1))\n",
      "('batched_seeds[i, ...]', 3, (49, 49, 49, 1))\n",
      "('batched_seeds[i, ...]', 4, (49, 49, 49, 1))\n",
      "('batched_seeds[i, ...]', 5, (49, 49, 49, 1))\n",
      "('batched_seeds[i, ...]', 6, (49, 49, 49, 1))\n",
      "('batched_seeds[i, ...]', 7, (49, 49, 49, 1))\n",
      "('seeds shape', 8)\n",
      "((8, 49, 49, 49, 1), (8, 49, 49, 49, 1), (8, 49, 49, 49, 1))\n",
      "('batched_seeds[i, ...]', 0, (49, 49, 49, 1))\n",
      "('batched_seeds[i, ...]', 1, (49, 49, 49, 1))\n",
      "('batched_seeds[i, ...]', 2, (49, 49, 49, 1))\n",
      "('batched_seeds[i, ...]', 3, (49, 49, 49, 1))\n",
      "('batched_seeds[i, ...]', 4, (49, 49, 49, 1))\n",
      "('batched_seeds[i, ...]', 5, (49, 49, 49, 1))\n",
      "('batched_seeds[i, ...]', 6, (49, 49, 49, 1))\n",
      "('batched_seeds[i, ...]', 7, (49, 49, 49, 1))\n",
      "('seeds shape', 8)\n",
      "((8, 49, 49, 49, 1), (8, 49, 49, 49, 1), (8, 49, 49, 49, 1))\n",
      "('batched_seeds[i, ...]', 0, (49, 49, 49, 1))\n",
      "('batched_seeds[i, ...]', 1, (49, 49, 49, 1))\n",
      "('batched_seeds[i, ...]', 2, (49, 49, 49, 1))\n",
      "('batched_seeds[i, ...]', 3, (49, 49, 49, 1))\n",
      "('batched_seeds[i, ...]', 4, (49, 49, 49, 1))\n",
      "('batched_seeds[i, ...]', 5, (49, 49, 49, 1))\n",
      "('batched_seeds[i, ...]', 6, (49, 49, 49, 1))\n",
      "('batched_seeds[i, ...]', 7, (49, 49, 49, 1))\n",
      "('seeds shape', 8)\n",
      "((8, 49, 49, 49, 1), (8, 49, 49, 49, 1), (8, 49, 49, 49, 1))\n",
      "('batched_seeds[i, ...]', 0, (49, 49, 49, 1))\n",
      "('batched_seeds[i, ...]', 1, (49, 49, 49, 1))\n",
      "('batched_seeds[i, ...]', 2, (49, 49, 49, 1))\n",
      "('batched_seeds[i, ...]', 3, (49, 49, 49, 1))\n",
      "('batched_seeds[i, ...]', 4, (49, 49, 49, 1))\n",
      "('batched_seeds[i, ...]', 5, (49, 49, 49, 1))\n",
      "('batched_seeds[i, ...]', 6, (49, 49, 49, 1))\n",
      "('batched_seeds[i, ...]', 7, (49, 49, 49, 1))\n",
      "('seeds shape', 8)\n",
      "((8, 49, 49, 49, 1), (8, 49, 49, 49, 1), (8, 49, 49, 49, 1))\n",
      "('batched_seeds[i, ...]', 0, (49, 49, 49, 1))\n",
      "('batched_seeds[i, ...]', 1, (49, 49, 49, 1))\n",
      "('batched_seeds[i, ...]', 2, (49, 49, 49, 1))\n",
      "('batched_seeds[i, ...]', 3, (49, 49, 49, 1))\n",
      "('batched_seeds[i, ...]', 4, (49, 49, 49, 1))\n",
      "('batched_seeds[i, ...]', 5, (49, 49, 49, 1))\n",
      "('batched_seeds[i, ...]', 6, (49, 49, 49, 1))\n",
      "('batched_seeds[i, ...]', 7, (49, 49, 49, 1))\n",
      "('seeds shape', 8)\n",
      "((8, 49, 49, 49, 1), (8, 49, 49, 49, 1), (8, 49, 49, 49, 1))\n",
      "('batched_seeds[i, ...]', 0, (49, 49, 49, 1))\n",
      "('batched_seeds[i, ...]', 1, (49, 49, 49, 1))\n",
      "('batched_seeds[i, ...]', 2, (49, 49, 49, 1))\n",
      "('batched_seeds[i, ...]', 3, (49, 49, 49, 1))\n",
      "('batched_seeds[i, ...]', 4, (49, 49, 49, 1))\n",
      "('batched_seeds[i, ...]', 5, (49, 49, 49, 1))\n",
      "('batched_seeds[i, ...]', 6, (49, 49, 49, 1))\n",
      "('batched_seeds[i, ...]', 7, (49, 49, 49, 1))\n",
      "('seeds shape', 8)\n",
      "((8, 49, 49, 49, 1), (8, 49, 49, 49, 1), (8, 49, 49, 49, 1))\n",
      "('batched_seeds[i, ...]', 0, (49, 49, 49, 1))\n",
      "('batched_seeds[i, ...]', 1, (49, 49, 49, 1))\n",
      "('batched_seeds[i, ...]', 2, (49, 49, 49, 1))\n",
      "('batched_seeds[i, ...]', 3, (49, 49, 49, 1))\n",
      "('batched_seeds[i, ...]', 4, (49, 49, 49, 1))\n",
      "('batched_seeds[i, ...]', 5, (49, 49, 49, 1))\n",
      "('batched_seeds[i, ...]', 6, (49, 49, 49, 1))\n",
      "('batched_seeds[i, ...]', 7, (49, 49, 49, 1))\n",
      "('seeds shape', 8)\n",
      "((8, 49, 49, 49, 1), (8, 49, 49, 49, 1), (8, 49, 49, 49, 1))\n",
      "('batched_seeds[i, ...]', 0, (49, 49, 49, 1))\n",
      "('batched_seeds[i, ...]', 1, (49, 49, 49, 1))\n",
      "('batched_seeds[i, ...]', 2, (49, 49, 49, 1))\n",
      "('batched_seeds[i, ...]', 3, (49, 49, 49, 1))\n",
      "('batched_seeds[i, ...]', 4, (49, 49, 49, 1))\n",
      "('batched_seeds[i, ...]', 5, (49, 49, 49, 1))\n",
      "('batched_seeds[i, ...]', 6, (49, 49, 49, 1))\n",
      "('batched_seeds[i, ...]', 7, (49, 49, 49, 1))\n",
      "('seeds shape', 8)\n",
      "((8, 49, 49, 49, 1), (8, 49, 49, 49, 1), (8, 49, 49, 49, 1))\n",
      "('batched_seeds[i, ...]', 0, (49, 49, 49, 1))\n",
      "('batched_seeds[i, ...]', 1, (49, 49, 49, 1))\n",
      "('batched_seeds[i, ...]', 2, (49, 49, 49, 1))\n",
      "('batched_seeds[i, ...]', 3, (49, 49, 49, 1))\n",
      "('batched_seeds[i, ...]', 4, (49, 49, 49, 1))\n",
      "('batched_seeds[i, ...]', 5, (49, 49, 49, 1))\n",
      "('batched_seeds[i, ...]', 6, (49, 49, 49, 1))\n",
      "('batched_seeds[i, ...]', 7, (49, 49, 49, 1))\n",
      "('seeds shape', 8)\n",
      "((8, 49, 49, 49, 1), (8, 49, 49, 49, 1), (8, 49, 49, 49, 1))\n",
      "('batched_seeds[i, ...]', 0, (49, 49, 49, 1))\n",
      "('batched_seeds[i, ...]', 1, (49, 49, 49, 1))\n",
      "('batched_seeds[i, ...]', 2, (49, 49, 49, 1))\n",
      "('batched_seeds[i, ...]', 3, (49, 49, 49, 1))\n",
      "('batched_seeds[i, ...]', 4, (49, 49, 49, 1))\n",
      "('batched_seeds[i, ...]', 5, (49, 49, 49, 1))\n",
      "('batched_seeds[i, ...]', 6, (49, 49, 49, 1))\n",
      "('batched_seeds[i, ...]', 7, (49, 49, 49, 1))\n",
      "('seeds shape', 8)\n",
      "((8, 49, 49, 49, 1), (8, 49, 49, 49, 1), (8, 49, 49, 49, 1))\n",
      "('batched_seeds[i, ...]', 0, (49, 49, 49, 1))\n",
      "('batched_seeds[i, ...]', 1, (49, 49, 49, 1))\n",
      "('batched_seeds[i, ...]', 2, (49, 49, 49, 1))\n",
      "('batched_seeds[i, ...]', 3, (49, 49, 49, 1))\n",
      "('batched_seeds[i, ...]', 4, (49, 49, 49, 1))\n",
      "('batched_seeds[i, ...]', 5, (49, 49, 49, 1))\n",
      "('batched_seeds[i, ...]', 6, (49, 49, 49, 1))\n",
      "('batched_seeds[i, ...]', 7, (49, 49, 49, 1))\n",
      "('seeds shape', 8)\n",
      "((8, 49, 49, 49, 1), (8, 49, 49, 49, 1), (8, 49, 49, 49, 1))\n",
      "('batched_seeds[i, ...]', 0, (49, 49, 49, 1))\n",
      "('batched_seeds[i, ...]', 1, (49, 49, 49, 1))\n",
      "('batched_seeds[i, ...]', 2, (49, 49, 49, 1))\n",
      "('batched_seeds[i, ...]', 3, (49, 49, 49, 1))\n",
      "('batched_seeds[i, ...]', 4, (49, 49, 49, 1))\n",
      "('batched_seeds[i, ...]', 5, (49, 49, 49, 1))\n",
      "('batched_seeds[i, ...]', 6, (49, 49, 49, 1))\n",
      "('batched_seeds[i, ...]', 7, (49, 49, 49, 1))\n",
      "('seeds shape', 8)\n",
      "((8, 49, 49, 49, 1), (8, 49, 49, 49, 1), (8, 49, 49, 49, 1))\n",
      "('batched_seeds[i, ...]', 0, (49, 49, 49, 1))\n",
      "('batched_seeds[i, ...]', 1, (49, 49, 49, 1))\n",
      "('batched_seeds[i, ...]', 2, (49, 49, 49, 1))\n",
      "('batched_seeds[i, ...]', 3, (49, 49, 49, 1))\n",
      "('batched_seeds[i, ...]', 4, (49, 49, 49, 1))\n",
      "('batched_seeds[i, ...]', 5, (49, 49, 49, 1))\n",
      "('batched_seeds[i, ...]', 6, (49, 49, 49, 1))\n",
      "('batched_seeds[i, ...]', 7, (49, 49, 49, 1))\n",
      "('seeds shape', 8)\n",
      "((8, 49, 49, 49, 1), (8, 49, 49, 49, 1), (8, 49, 49, 49, 1))\n",
      "('batched_seeds[i, ...]', 0, (49, 49, 49, 1))\n",
      "('batched_seeds[i, ...]', 1, (49, 49, 49, 1))\n",
      "('batched_seeds[i, ...]', 2, (49, 49, 49, 1))\n",
      "('batched_seeds[i, ...]', 3, (49, 49, 49, 1))\n",
      "('batched_seeds[i, ...]', 4, (49, 49, 49, 1))\n",
      "('batched_seeds[i, ...]', 5, (49, 49, 49, 1))\n",
      "('batched_seeds[i, ...]', 6, (49, 49, 49, 1))\n",
      "('batched_seeds[i, ...]', 7, (49, 49, 49, 1))\n",
      "('seeds shape', 8)\n",
      "((8, 49, 49, 49, 1), (8, 49, 49, 49, 1), (8, 49, 49, 49, 1))\n",
      "('batched_seeds[i, ...]', 0, (49, 49, 49, 1))\n",
      "('batched_seeds[i, ...]', 1, (49, 49, 49, 1))\n",
      "('batched_seeds[i, ...]', 2, (49, 49, 49, 1))\n",
      "('batched_seeds[i, ...]', 3, (49, 49, 49, 1))\n",
      "('batched_seeds[i, ...]', 4, (49, 49, 49, 1))\n",
      "('batched_seeds[i, ...]', 5, (49, 49, 49, 1))\n",
      "('batched_seeds[i, ...]', 6, (49, 49, 49, 1))\n",
      "('batched_seeds[i, ...]', 7, (49, 49, 49, 1))\n",
      "('seeds shape', 8)\n",
      "((8, 49, 49, 49, 1), (8, 49, 49, 49, 1), (8, 49, 49, 49, 1))\n",
      "('batched_seeds[i, ...]', 0, (49, 49, 49, 1))\n",
      "('batched_seeds[i, ...]', 1, (49, 49, 49, 1))\n",
      "('batched_seeds[i, ...]', 2, (49, 49, 49, 1))\n",
      "('batched_seeds[i, ...]', 3, (49, 49, 49, 1))\n",
      "('batched_seeds[i, ...]', 4, (49, 49, 49, 1))\n",
      "('batched_seeds[i, ...]', 5, (49, 49, 49, 1))\n",
      "('batched_seeds[i, ...]', 6, (49, 49, 49, 1))\n",
      "('batched_seeds[i, ...]', 7, (49, 49, 49, 1))\n",
      "('seeds shape', 8)\n",
      "((8, 49, 49, 49, 1), (8, 49, 49, 49, 1), (8, 49, 49, 49, 1))\n",
      "('batched_seeds[i, ...]', 0, (49, 49, 49, 1))\n",
      "('batched_seeds[i, ...]', 1, (49, 49, 49, 1))\n",
      "('batched_seeds[i, ...]', 2, (49, 49, 49, 1))\n",
      "('batched_seeds[i, ...]', 3, (49, 49, 49, 1))\n",
      "('batched_seeds[i, ...]', 4, (49, 49, 49, 1))\n",
      "('batched_seeds[i, ...]', 5, (49, 49, 49, 1))\n",
      "('batched_seeds[i, ...]', 6, (49, 49, 49, 1))\n",
      "('batched_seeds[i, ...]', 7, (49, 49, 49, 1))\n",
      "('seeds shape', 8)\n"
     ]
    },
    {
     "name": "stdout",
     "output_type": "stream",
     "text": [
      "((8, 49, 49, 49, 1), (8, 49, 49, 49, 1), (8, 49, 49, 49, 1))\n",
      "('batched_seeds[i, ...]', 0, (49, 49, 49, 1))\n",
      "('batched_seeds[i, ...]', 1, (49, 49, 49, 1))\n",
      "('batched_seeds[i, ...]', 2, (49, 49, 49, 1))\n",
      "('batched_seeds[i, ...]', 3, (49, 49, 49, 1))\n",
      "('batched_seeds[i, ...]', 4, (49, 49, 49, 1))\n",
      "('batched_seeds[i, ...]', 5, (49, 49, 49, 1))\n",
      "('batched_seeds[i, ...]', 6, (49, 49, 49, 1))\n",
      "('batched_seeds[i, ...]', 7, (49, 49, 49, 1))\n",
      "('seeds shape', 8)\n",
      "((8, 49, 49, 49, 1), (8, 49, 49, 49, 1), (8, 49, 49, 49, 1))\n",
      "('batched_seeds[i, ...]', 0, (49, 49, 49, 1))\n",
      "('batched_seeds[i, ...]', 1, (49, 49, 49, 1))\n",
      "('batched_seeds[i, ...]', 2, (49, 49, 49, 1))\n",
      "('batched_seeds[i, ...]', 3, (49, 49, 49, 1))\n",
      "('batched_seeds[i, ...]', 4, (49, 49, 49, 1))\n",
      "('batched_seeds[i, ...]', 5, (49, 49, 49, 1))\n",
      "('batched_seeds[i, ...]', 6, (49, 49, 49, 1))\n",
      "('batched_seeds[i, ...]', 7, (49, 49, 49, 1))\n",
      "('seeds shape', 8)\n",
      "((8, 49, 49, 49, 1), (8, 49, 49, 49, 1), (8, 49, 49, 49, 1))\n",
      "('batched_seeds[i, ...]', 0, (49, 49, 49, 1))\n",
      "('batched_seeds[i, ...]', 1, (49, 49, 49, 1))\n",
      "('batched_seeds[i, ...]', 2, (49, 49, 49, 1))\n",
      "('batched_seeds[i, ...]', 3, (49, 49, 49, 1))\n",
      "('batched_seeds[i, ...]', 4, (49, 49, 49, 1))\n",
      "('batched_seeds[i, ...]', 5, (49, 49, 49, 1))\n",
      "('batched_seeds[i, ...]', 6, (49, 49, 49, 1))\n",
      "('batched_seeds[i, ...]', 7, (49, 49, 49, 1))\n",
      "('seeds shape', 8)\n",
      "((8, 49, 49, 49, 1), (8, 49, 49, 49, 1), (8, 49, 49, 49, 1))\n",
      "('batched_seeds[i, ...]', 0, (49, 49, 49, 1))\n",
      "('batched_seeds[i, ...]', 1, (49, 49, 49, 1))\n",
      "('batched_seeds[i, ...]', 2, (49, 49, 49, 1))\n",
      "('batched_seeds[i, ...]', 3, (49, 49, 49, 1))\n",
      "('batched_seeds[i, ...]', 4, (49, 49, 49, 1))\n",
      "('batched_seeds[i, ...]', 5, (49, 49, 49, 1))\n",
      "('batched_seeds[i, ...]', 6, (49, 49, 49, 1))\n",
      "('batched_seeds[i, ...]', 7, (49, 49, 49, 1))\n",
      "('seeds shape', 8)\n",
      "((8, 49, 49, 49, 1), (8, 49, 49, 49, 1), (8, 49, 49, 49, 1))\n",
      "('batched_seeds[i, ...]', 0, (49, 49, 49, 1))\n",
      "('batched_seeds[i, ...]', 1, (49, 49, 49, 1))\n",
      "('batched_seeds[i, ...]', 2, (49, 49, 49, 1))\n",
      "('batched_seeds[i, ...]', 3, (49, 49, 49, 1))\n",
      "('batched_seeds[i, ...]', 4, (49, 49, 49, 1))\n",
      "('batched_seeds[i, ...]', 5, (49, 49, 49, 1))\n",
      "('batched_seeds[i, ...]', 6, (49, 49, 49, 1))\n",
      "('batched_seeds[i, ...]', 7, (49, 49, 49, 1))\n",
      "('seeds shape', 8)\n",
      "((8, 49, 49, 49, 1), (8, 49, 49, 49, 1), (8, 49, 49, 49, 1))\n",
      "('batched_seeds[i, ...]', 0, (49, 49, 49, 1))\n",
      "('batched_seeds[i, ...]', 1, (49, 49, 49, 1))\n",
      "('batched_seeds[i, ...]', 2, (49, 49, 49, 1))\n",
      "('batched_seeds[i, ...]', 3, (49, 49, 49, 1))\n",
      "('batched_seeds[i, ...]', 4, (49, 49, 49, 1))\n",
      "('batched_seeds[i, ...]', 5, (49, 49, 49, 1))\n",
      "('batched_seeds[i, ...]', 6, (49, 49, 49, 1))\n",
      "('batched_seeds[i, ...]', 7, (49, 49, 49, 1))\n",
      "('seeds shape', 8)\n",
      "((8, 49, 49, 49, 1), (8, 49, 49, 49, 1), (8, 49, 49, 49, 1))\n",
      "('batched_seeds[i, ...]', 0, (49, 49, 49, 1))\n",
      "('batched_seeds[i, ...]', 1, (49, 49, 49, 1))\n",
      "('batched_seeds[i, ...]', 2, (49, 49, 49, 1))\n",
      "('batched_seeds[i, ...]', 3, (49, 49, 49, 1))\n",
      "('batched_seeds[i, ...]', 4, (49, 49, 49, 1))\n",
      "('batched_seeds[i, ...]', 5, (49, 49, 49, 1))\n",
      "('batched_seeds[i, ...]', 6, (49, 49, 49, 1))\n",
      "('batched_seeds[i, ...]', 7, (49, 49, 49, 1))\n"
     ]
    }
   ],
   "source": [
    "tmp = []\n",
    "for i, j, k in get_batch():\n",
    "    print(i.shape, j.shape, k.shape)\n",
    "#     tmp.append([i.shape, j.shape, k.shape])"
   ]
  },
  {
   "cell_type": "code",
   "execution_count": 228,
   "metadata": {
    "scrolled": true
   },
   "outputs": [],
   "source": [
    "from scipy.special import logit\n"
   ]
  },
  {
   "cell_type": "code",
   "execution_count": 240,
   "metadata": {},
   "outputs": [
    {
     "data": {
      "text/plain": [
       "(array([0]), array([24]), array([24]), array([24]), array([0]))"
      ]
     },
     "execution_count": 240,
     "metadata": {},
     "output_type": "execute_result"
    }
   ],
   "source": [
    "p = 0.95\n",
    "\n",
    "seed = np.full((1, 49, 49, 49, 1), 0.05)\n",
    "seed[:, 24, 24, 24, :] = p\n",
    "seed[:, 24, 24, 24, :]\n",
    "logit_seed = logit(seed)\n",
    "logit_seed[:, 24, 24, 24, :]\n",
    "np.where(logit_seed == logit(0.95))\n"
   ]
  },
  {
   "cell_type": "code",
   "execution_count": null,
   "metadata": {},
   "outputs": [],
   "source": []
  }
 ],
 "metadata": {
  "kernelspec": {
   "display_name": "Python 2",
   "language": "python",
   "name": "python2"
  },
  "language_info": {
   "codemirror_mode": {
    "name": "ipython",
    "version": 2
   },
   "file_extension": ".py",
   "mimetype": "text/x-python",
   "name": "python",
   "nbconvert_exporter": "python",
   "pygments_lexer": "ipython2",
   "version": "2.7.12"
  }
 },
 "nbformat": 4,
 "nbformat_minor": 2
}
