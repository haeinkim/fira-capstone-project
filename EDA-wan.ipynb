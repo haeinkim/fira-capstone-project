{
 "cells": [
  {
   "cell_type": "markdown",
   "metadata": {},
   "source": [
    "# c.f. It is different from saved_gt  and diced_gt"
   ]
  },
  {
   "cell_type": "markdown",
   "metadata": {},
   "source": [
    "## Load a diced_gt"
   ]
  },
  {
   "cell_type": "code",
   "execution_count": 1,
   "metadata": {
    "collapsed": true
   },
   "outputs": [],
   "source": [
    "import json\n",
    "import numpy as np\n",
    "import pandas as pd\n",
    "from mpl_toolkits.mplot3d import Axes3D\n",
    "import matplotlib.pyplot as plt\n",
    "import os\n",
    "\n",
    "from diced import DicedStore\n",
    "\n",
    "store = DicedStore(\"gs://flyem-public-connectome\")\n",
    "repo_grayscale = store.open_repo(\"medulla7column\")\n",
    "repo_groundtruth = store.open_repo(\"medulla7column\")\n"
   ]
  },
  {
   "cell_type": "code",
   "execution_count": 2,
   "metadata": {
    "collapsed": true
   },
   "outputs": [],
   "source": [
    "grayscale = repo_grayscale.get_array(\"grayscale\")\n",
    "groundtruth = repo_groundtruth.get_array(\"groundtruth\")"
   ]
  },
  {
   "cell_type": "code",
   "execution_count": 3,
   "metadata": {},
   "outputs": [
    {
     "data": {
      "text/plain": [
       "(520, 520, 520)"
      ]
     },
     "execution_count": 3,
     "metadata": {},
     "output_type": "execute_result"
    }
   ],
   "source": [
    "xmin = 3253\n",
    "xmax = 3773\n",
    "ymin = 2103\n",
    "ymax = 2623\n",
    "zmin = 3490\n",
    "zmax = 4010\n",
    "origin_gt_cube = groundtruth[zmin:zmax, ymin:ymax, xmin:xmax] \n",
    "\n",
    "unique_origin_gt_cube = np.unique(origin_gt_cube)\n",
    "origin_gt_cube.shape"
   ]
  },
  {
   "cell_type": "markdown",
   "metadata": {},
   "source": [
    "## Load a saved_get"
   ]
  },
  {
   "cell_type": "code",
   "execution_count": 23,
   "metadata": {
    "collapsed": true
   },
   "outputs": [],
   "source": [
    "import h5py\n",
    "import numpy as np\n",
    "# conda install -c anaconda h5py\n",
    "\"\"\"\n",
    "Reference : https://stackoverflow.com/questions/27710245/is-there-an-analysis-speed-or-memory-usage-advantage-to-using-hdf5-for-large-arr\n",
    "Saving 'thousand_gry' as np.array-from, its size is 2.7GB\n",
    "but saving 'thousand_gry' as hdf-from, its size is 1.1GB\n",
    "\"\"\"\n",
    "def hdf_read(path, keyword):\n",
    "    f = h5py.File(path, 'r')\n",
    "    return f[keyword]\n",
    "\n",
    "def hdf_write(path, keyword, data):\n",
    "    with h5py.File(path, 'w') as outfile:\n",
    "        dset = dset = outfile.create_dataset(keyword, data=data, chunks=True)"
   ]
  },
  {
   "cell_type": "code",
   "execution_count": null,
   "metadata": {
    "collapsed": true
   },
   "outputs": [],
   "source": [
    "gt_path = '/data/git/ffn/third_party/neuroproof_examples/validation_sample/groundtruth.h5'\n",
    "saved_gt = np.array(hdf_read(gt_path, 'stack'))\n",
    "\n",
    "unique_saved_gt = np.unique(saved_gt)\n",
    "saved_gt.shape"
   ]
  },
  {
   "cell_type": "markdown",
   "metadata": {},
   "source": [
    "## check a saved_gt same with a diced_gt"
   ]
  },
  {
   "cell_type": "code",
   "execution_count": null,
   "metadata": {
    "collapsed": true
   },
   "outputs": [],
   "source": [
    "from scipy import ndimage as ndi\n",
    "from skimage import color\n",
    "\n",
    "z_value = 30\n",
    "\n",
    "color_labels = color.label2rgb(origin_gt_cube[z_value, :, :])\n",
    "plt.imshow(color_labels, alpha=0.3)\n",
    "# plt.savefig('raw+gt_%d_by_google.png' % z_value, transparent=True)\n",
    "plt.show()"
   ]
  },
  {
   "cell_type": "code",
   "execution_count": null,
   "metadata": {
    "collapsed": true
   },
   "outputs": [],
   "source": [
    "color_labels = color.label2rgb(saved_gt[z_value, :, :], alpha=0.1)\n",
    "\n",
    "plt.imshow(color_labels, alpha=0.3)\n",
    "# plt.savefig('raw+inference_%d_by_google.png' % z_value, transparent=True)\n",
    "plt.show()"
   ]
  },
  {
   "cell_type": "code",
   "execution_count": null,
   "metadata": {
    "collapsed": true
   },
   "outputs": [],
   "source": [
    "print(len(unique_saved_gt) == len(unique_origin_gt_cube))\n",
    "print(len(unique_saved_gt))\n",
    "print(len(unique_origin_gt_cube))"
   ]
  },
  {
   "cell_type": "markdown",
   "metadata": {},
   "source": [
    "----------------------------------------------------------------------------------------------"
   ]
  },
  {
   "cell_type": "markdown",
   "metadata": {},
   "source": [
    "# Save and load a diced_gt_from_server"
   ]
  },
  {
   "cell_type": "code",
   "execution_count": 5,
   "metadata": {
    "collapsed": true
   },
   "outputs": [],
   "source": [
    "import h5py\n",
    "import numpy as np\n",
    "# conda install -c anaconda h5py\n",
    "\"\"\"\n",
    "Reference : https://stackoverflow.com/questions/27710245/is-there-an-analysis-speed-or-memory-usage-advantage-to-using-hdf5-for-large-arr\n",
    "Saving 'thousand_gry' as np.array-from, its size is 2.7GB\n",
    "but saving 'thousand_gry' as hdf-from, its size is 1.1GB\n",
    "\"\"\"\n",
    "def hdf_read(path, keyword):\n",
    "    f = h5py.File(path, 'r')\n",
    "    return f[keyword]\n",
    "\n",
    "import os\n",
    "if not os.path.exists(\"./save/diced_gt_from_server.hdf\"):\n",
    "    with h5py.File(\"./save/diced_gt_from_server.hdf\", \"w\") as outfile:\n",
    "        dset = outfile.create_dataset('diced_gt_from_server', data=origin_gt_cube, chunks=True)\n",
    "    diced_gt = origin_gt_cube\n",
    "else:\n",
    "    gt_path = \"./save/diced_gt_from_server.hdf\"\n",
    "    diced_gt = np.array(hdf_read(gt_path, 'diced_gt_from_server'))"
   ]
  },
  {
   "cell_type": "markdown",
   "metadata": {},
   "source": [
    "# Get neuron coordinates"
   ]
  },
  {
   "cell_type": "code",
   "execution_count": 6,
   "metadata": {},
   "outputs": [
    {
     "data": {
      "text/plain": [
       "array([[ 53,  77, 101, 149],\n",
       "       [ 53,  78, 101, 149],\n",
       "       [ 53,  79, 101, 149],\n",
       "       [ 53,  80, 101, 149],\n",
       "       [ 53,  81, 101, 149]])"
      ]
     },
     "execution_count": 6,
     "metadata": {},
     "output_type": "execute_result"
    }
   ],
   "source": [
    "import json\n",
    "import numpy as np\n",
    "import pandas as pd\n",
    "from mpl_toolkits.mplot3d import Axes3D\n",
    "import matplotlib.pyplot as plt\n",
    "\n",
    "# Open roi.json file and specify as a numpy array:\n",
    "\n",
    "with open('json_repo/roi.json', 'r') as f:\n",
    "    data = json.load(f)\n",
    "    \n",
    "roi_idx = np.array(data)\n",
    "roi_idx[0:5]\n"
   ]
  },
  {
   "cell_type": "code",
   "execution_count": 7,
   "metadata": {},
   "outputs": [
    {
     "data": {
      "text/html": [
       "<div>\n",
       "<style scoped>\n",
       "    .dataframe tbody tr th:only-of-type {\n",
       "        vertical-align: middle;\n",
       "    }\n",
       "\n",
       "    .dataframe tbody tr th {\n",
       "        vertical-align: top;\n",
       "    }\n",
       "\n",
       "    .dataframe thead th {\n",
       "        text-align: right;\n",
       "    }\n",
       "</style>\n",
       "<table border=\"1\" class=\"dataframe\">\n",
       "  <thead>\n",
       "    <tr style=\"text-align: right;\">\n",
       "      <th></th>\n",
       "      <th>z_start</th>\n",
       "      <th>y_start</th>\n",
       "      <th>x0_start</th>\n",
       "      <th>x1_start</th>\n",
       "    </tr>\n",
       "  </thead>\n",
       "  <tbody>\n",
       "    <tr>\n",
       "      <th>0</th>\n",
       "      <td>53</td>\n",
       "      <td>77</td>\n",
       "      <td>101</td>\n",
       "      <td>149</td>\n",
       "    </tr>\n",
       "    <tr>\n",
       "      <th>1</th>\n",
       "      <td>53</td>\n",
       "      <td>78</td>\n",
       "      <td>101</td>\n",
       "      <td>149</td>\n",
       "    </tr>\n",
       "    <tr>\n",
       "      <th>2</th>\n",
       "      <td>53</td>\n",
       "      <td>79</td>\n",
       "      <td>101</td>\n",
       "      <td>149</td>\n",
       "    </tr>\n",
       "    <tr>\n",
       "      <th>3</th>\n",
       "      <td>53</td>\n",
       "      <td>80</td>\n",
       "      <td>101</td>\n",
       "      <td>149</td>\n",
       "    </tr>\n",
       "    <tr>\n",
       "      <th>4</th>\n",
       "      <td>53</td>\n",
       "      <td>81</td>\n",
       "      <td>101</td>\n",
       "      <td>149</td>\n",
       "    </tr>\n",
       "  </tbody>\n",
       "</table>\n",
       "</div>"
      ],
      "text/plain": [
       "   z_start  y_start  x0_start  x1_start\n",
       "0       53       77       101       149\n",
       "1       53       78       101       149\n",
       "2       53       79       101       149\n",
       "3       53       80       101       149\n",
       "4       53       81       101       149"
      ]
     },
     "execution_count": 7,
     "metadata": {},
     "output_type": "execute_result"
    }
   ],
   "source": [
    "# Create DataFrame from 'roi_idx':\n",
    "\n",
    "col_name = ['z_start', 'y_start', 'x0_start', 'x1_start']\n",
    "df = pd.DataFrame(roi_idx, columns=col_name)\n",
    "df.head(5)\n"
   ]
  },
  {
   "cell_type": "code",
   "execution_count": 8,
   "metadata": {},
   "outputs": [
    {
     "data": {
      "text/html": [
       "<div>\n",
       "<style scoped>\n",
       "    .dataframe tbody tr th:only-of-type {\n",
       "        vertical-align: middle;\n",
       "    }\n",
       "\n",
       "    .dataframe tbody tr th {\n",
       "        vertical-align: top;\n",
       "    }\n",
       "\n",
       "    .dataframe thead th {\n",
       "        text-align: right;\n",
       "    }\n",
       "</style>\n",
       "<table border=\"1\" class=\"dataframe\">\n",
       "  <thead>\n",
       "    <tr style=\"text-align: right;\">\n",
       "      <th></th>\n",
       "      <th>z_start</th>\n",
       "      <th>y_start</th>\n",
       "      <th>x0_start</th>\n",
       "      <th>x1_start</th>\n",
       "    </tr>\n",
       "  </thead>\n",
       "  <tbody>\n",
       "    <tr>\n",
       "      <th>0</th>\n",
       "      <td>1696</td>\n",
       "      <td>2464</td>\n",
       "      <td>3232</td>\n",
       "      <td>4768</td>\n",
       "    </tr>\n",
       "    <tr>\n",
       "      <th>1</th>\n",
       "      <td>1696</td>\n",
       "      <td>2496</td>\n",
       "      <td>3232</td>\n",
       "      <td>4768</td>\n",
       "    </tr>\n",
       "    <tr>\n",
       "      <th>2</th>\n",
       "      <td>1696</td>\n",
       "      <td>2528</td>\n",
       "      <td>3232</td>\n",
       "      <td>4768</td>\n",
       "    </tr>\n",
       "    <tr>\n",
       "      <th>3</th>\n",
       "      <td>1696</td>\n",
       "      <td>2560</td>\n",
       "      <td>3232</td>\n",
       "      <td>4768</td>\n",
       "    </tr>\n",
       "    <tr>\n",
       "      <th>4</th>\n",
       "      <td>1696</td>\n",
       "      <td>2592</td>\n",
       "      <td>3232</td>\n",
       "      <td>4768</td>\n",
       "    </tr>\n",
       "  </tbody>\n",
       "</table>\n",
       "</div>"
      ],
      "text/plain": [
       "   z_start  y_start  x0_start  x1_start\n",
       "0     1696     2464      3232      4768\n",
       "1     1696     2496      3232      4768\n",
       "2     1696     2528      3232      4768\n",
       "3     1696     2560      3232      4768\n",
       "4     1696     2592      3232      4768"
      ]
     },
     "execution_count": 8,
     "metadata": {},
     "output_type": "execute_result"
    }
   ],
   "source": [
    "# Translate to voxel coorinates:\n",
    "\n",
    "df_coord = df * 32\n",
    "df_coord.head(5)\n"
   ]
  },
  {
   "cell_type": "code",
   "execution_count": 9,
   "metadata": {},
   "outputs": [
    {
     "name": "stdout",
     "output_type": "stream",
     "text": [
      "The voxel coordinates of T-bar is [x, y, z] = [1888, 3111, 7120]\n",
      "The voxel coordinates of its partner 0 is [x, y, z] = [1884, 3090, 7118]\n",
      "The voxel coordinates of its partner 1 is [x, y, z] = [1880, 3114, 7111]\n"
     ]
    }
   ],
   "source": [
    "# Load the synapse.json file:\n",
    "\n",
    "with open('json_repo/synapse.json', 'r') as f:\n",
    "    synapse_json = json.load(f)\n",
    "    \n",
    "# Get the location of specific 'T-bar': \n",
    "\n",
    "data = synapse_json['data'][22]\n",
    "loc_tbar = data['T-bar']['location']\n",
    "print(\"The voxel coordinates of T-bar is [x, y, z] = \" + str(loc_tbar))\n",
    "\n",
    "# Get the locations of its 'partners':\n",
    "\n",
    "partners = data['partners']\n",
    "loc_part = [partners[i]['location'] for i in range(len(partners))]\n",
    "\n",
    "for i, loc in enumerate(loc_part):\n",
    "    print(\"The voxel coordinates of its partner {} is [x, y, z] = \".format(i) + str(loc_part[i]))\n"
   ]
  },
  {
   "cell_type": "code",
   "execution_count": 10,
   "metadata": {},
   "outputs": [
    {
     "name": "stdout",
     "output_type": "stream",
     "text": [
      "The DataFrame of tbar_df would have 52871 of rows\n"
     ]
    },
    {
     "data": {
      "text/html": [
       "<div>\n",
       "<style scoped>\n",
       "    .dataframe tbody tr th:only-of-type {\n",
       "        vertical-align: middle;\n",
       "    }\n",
       "\n",
       "    .dataframe tbody tr th {\n",
       "        vertical-align: top;\n",
       "    }\n",
       "\n",
       "    .dataframe thead th {\n",
       "        text-align: right;\n",
       "    }\n",
       "</style>\n",
       "<table border=\"1\" class=\"dataframe\">\n",
       "  <thead>\n",
       "    <tr style=\"text-align: right;\">\n",
       "      <th></th>\n",
       "      <th>data</th>\n",
       "      <th>body ID</th>\n",
       "      <th>loc (x)</th>\n",
       "      <th>loc (y)</th>\n",
       "      <th>loc (z)</th>\n",
       "      <th>category</th>\n",
       "    </tr>\n",
       "  </thead>\n",
       "  <tbody>\n",
       "    <tr>\n",
       "      <th>52866</th>\n",
       "      <td>52866</td>\n",
       "      <td>39326</td>\n",
       "      <td>5015</td>\n",
       "      <td>3301</td>\n",
       "      <td>1731</td>\n",
       "      <td>T-bar</td>\n",
       "    </tr>\n",
       "    <tr>\n",
       "      <th>52867</th>\n",
       "      <td>52867</td>\n",
       "      <td>20789</td>\n",
       "      <td>5015</td>\n",
       "      <td>3653</td>\n",
       "      <td>1876</td>\n",
       "      <td>T-bar</td>\n",
       "    </tr>\n",
       "    <tr>\n",
       "      <th>52868</th>\n",
       "      <td>52868</td>\n",
       "      <td>39727</td>\n",
       "      <td>5017</td>\n",
       "      <td>3134</td>\n",
       "      <td>1834</td>\n",
       "      <td>T-bar</td>\n",
       "    </tr>\n",
       "    <tr>\n",
       "      <th>52869</th>\n",
       "      <td>52869</td>\n",
       "      <td>28700</td>\n",
       "      <td>5017</td>\n",
       "      <td>3468</td>\n",
       "      <td>2353</td>\n",
       "      <td>T-bar</td>\n",
       "    </tr>\n",
       "    <tr>\n",
       "      <th>52870</th>\n",
       "      <td>52870</td>\n",
       "      <td>82080</td>\n",
       "      <td>5017</td>\n",
       "      <td>3695</td>\n",
       "      <td>1906</td>\n",
       "      <td>T-bar</td>\n",
       "    </tr>\n",
       "  </tbody>\n",
       "</table>\n",
       "</div>"
      ],
      "text/plain": [
       "        data  body ID  loc (x)  loc (y)  loc (z) category\n",
       "52866  52866    39326     5015     3301     1731    T-bar\n",
       "52867  52867    20789     5015     3653     1876    T-bar\n",
       "52868  52868    39727     5017     3134     1834    T-bar\n",
       "52869  52869    28700     5017     3468     2353    T-bar\n",
       "52870  52870    82080     5017     3695     1906    T-bar"
      ]
     },
     "execution_count": 10,
     "metadata": {},
     "output_type": "execute_result"
    }
   ],
   "source": [
    "# Get all of the T-bar locations in synapse.json:\n",
    "\n",
    "data = synapse_json['data']\n",
    "\n",
    "tbar_loc_list = []\n",
    "\n",
    "for i in range(len(data)):\n",
    "    tbar = data[i]['T-bar']\n",
    "    x, y, z = tbar['location']\n",
    "    tbar_loc_list.append([i, tbar['body ID'], x, y, z])\n",
    "\n",
    "# Create the DataFrame of T-bar:\n",
    "\n",
    "col_name = ['data', 'body ID', 'loc (x)', 'loc (y)', 'loc (z)']\n",
    "\n",
    "tbar_df = pd.DataFrame(tbar_loc_list, columns=col_name)\n",
    "tbar_df['category'] = 'T-bar'\n",
    "print('The DataFrame of tbar_df would have ' + str(len(tbar_df)) + ' of rows')\n",
    "tbar_df.tail(5)\n"
   ]
  },
  {
   "cell_type": "code",
   "execution_count": 11,
   "metadata": {},
   "outputs": [
    {
     "name": "stdout",
     "output_type": "stream",
     "text": [
      "The DataFrame of partner_df would have 313219 of rows\n"
     ]
    },
    {
     "data": {
      "text/html": [
       "<div>\n",
       "<style scoped>\n",
       "    .dataframe tbody tr th:only-of-type {\n",
       "        vertical-align: middle;\n",
       "    }\n",
       "\n",
       "    .dataframe tbody tr th {\n",
       "        vertical-align: top;\n",
       "    }\n",
       "\n",
       "    .dataframe thead th {\n",
       "        text-align: right;\n",
       "    }\n",
       "</style>\n",
       "<table border=\"1\" class=\"dataframe\">\n",
       "  <thead>\n",
       "    <tr style=\"text-align: right;\">\n",
       "      <th></th>\n",
       "      <th>data</th>\n",
       "      <th>body ID</th>\n",
       "      <th>loc (x)</th>\n",
       "      <th>loc (y)</th>\n",
       "      <th>loc (z)</th>\n",
       "      <th>category</th>\n",
       "    </tr>\n",
       "  </thead>\n",
       "  <tbody>\n",
       "    <tr>\n",
       "      <th>313214</th>\n",
       "      <td>52869</td>\n",
       "      <td>84374</td>\n",
       "      <td>5007</td>\n",
       "      <td>3457</td>\n",
       "      <td>2368</td>\n",
       "      <td>partner</td>\n",
       "    </tr>\n",
       "    <tr>\n",
       "      <th>313215</th>\n",
       "      <td>52870</td>\n",
       "      <td>42310</td>\n",
       "      <td>5010</td>\n",
       "      <td>3684</td>\n",
       "      <td>1906</td>\n",
       "      <td>partner</td>\n",
       "    </tr>\n",
       "    <tr>\n",
       "      <th>313216</th>\n",
       "      <td>52870</td>\n",
       "      <td>16699</td>\n",
       "      <td>4999</td>\n",
       "      <td>3695</td>\n",
       "      <td>1906</td>\n",
       "      <td>partner</td>\n",
       "    </tr>\n",
       "    <tr>\n",
       "      <th>313217</th>\n",
       "      <td>52870</td>\n",
       "      <td>33690</td>\n",
       "      <td>5003</td>\n",
       "      <td>3704</td>\n",
       "      <td>1896</td>\n",
       "      <td>partner</td>\n",
       "    </tr>\n",
       "    <tr>\n",
       "      <th>313218</th>\n",
       "      <td>52870</td>\n",
       "      <td>40513</td>\n",
       "      <td>4998</td>\n",
       "      <td>3701</td>\n",
       "      <td>1916</td>\n",
       "      <td>partner</td>\n",
       "    </tr>\n",
       "  </tbody>\n",
       "</table>\n",
       "</div>"
      ],
      "text/plain": [
       "         data  body ID  loc (x)  loc (y)  loc (z) category\n",
       "313214  52869    84374     5007     3457     2368  partner\n",
       "313215  52870    42310     5010     3684     1906  partner\n",
       "313216  52870    16699     4999     3695     1906  partner\n",
       "313217  52870    33690     5003     3704     1896  partner\n",
       "313218  52870    40513     4998     3701     1916  partner"
      ]
     },
     "execution_count": 11,
     "metadata": {},
     "output_type": "execute_result"
    }
   ],
   "source": [
    "# Get all of the Partners locations corresponding to T-bars in synapse.json:\n",
    "\n",
    "data = synapse_json['data']\n",
    "\n",
    "partners_loc_list = []\n",
    "\n",
    "for i in range(len(data)):\n",
    "    partners = data[i]['partners']\n",
    "    for j in range(len(partners)):\n",
    "        x, y, z = partners[j]['location']\n",
    "        partners_loc_list.append([i, partners[j]['body ID'], x, y, z])\n",
    "    \n",
    "# Create the DataFrame of Partners:\n",
    "\n",
    "col_name = ['data', 'body ID', 'loc (x)', 'loc (y)', 'loc (z)']\n",
    "\n",
    "partner_df = pd.DataFrame(partners_loc_list, columns=col_name)\n",
    "partner_df['category'] = 'partner'\n",
    "\n",
    "print('The DataFrame of partner_df would have ' + str(len(partner_df)) + ' of rows')\n",
    "partner_df.tail(5)\n",
    "    "
   ]
  },
  {
   "cell_type": "code",
   "execution_count": 12,
   "metadata": {},
   "outputs": [
    {
     "data": {
      "text/html": [
       "<div>\n",
       "<style scoped>\n",
       "    .dataframe tbody tr th:only-of-type {\n",
       "        vertical-align: middle;\n",
       "    }\n",
       "\n",
       "    .dataframe tbody tr th {\n",
       "        vertical-align: top;\n",
       "    }\n",
       "\n",
       "    .dataframe thead th {\n",
       "        text-align: right;\n",
       "    }\n",
       "</style>\n",
       "<table border=\"1\" class=\"dataframe\">\n",
       "  <thead>\n",
       "    <tr style=\"text-align: right;\">\n",
       "      <th></th>\n",
       "      <th>data</th>\n",
       "      <th>body ID</th>\n",
       "      <th>loc (x)</th>\n",
       "      <th>loc (y)</th>\n",
       "      <th>loc (z)</th>\n",
       "      <th>category</th>\n",
       "    </tr>\n",
       "  </thead>\n",
       "  <tbody>\n",
       "    <tr>\n",
       "      <th>366085</th>\n",
       "      <td>52869</td>\n",
       "      <td>84374</td>\n",
       "      <td>5007</td>\n",
       "      <td>3457</td>\n",
       "      <td>2368</td>\n",
       "      <td>partner</td>\n",
       "    </tr>\n",
       "    <tr>\n",
       "      <th>366086</th>\n",
       "      <td>52870</td>\n",
       "      <td>42310</td>\n",
       "      <td>5010</td>\n",
       "      <td>3684</td>\n",
       "      <td>1906</td>\n",
       "      <td>partner</td>\n",
       "    </tr>\n",
       "    <tr>\n",
       "      <th>366087</th>\n",
       "      <td>52870</td>\n",
       "      <td>16699</td>\n",
       "      <td>4999</td>\n",
       "      <td>3695</td>\n",
       "      <td>1906</td>\n",
       "      <td>partner</td>\n",
       "    </tr>\n",
       "    <tr>\n",
       "      <th>366088</th>\n",
       "      <td>52870</td>\n",
       "      <td>33690</td>\n",
       "      <td>5003</td>\n",
       "      <td>3704</td>\n",
       "      <td>1896</td>\n",
       "      <td>partner</td>\n",
       "    </tr>\n",
       "    <tr>\n",
       "      <th>366089</th>\n",
       "      <td>52870</td>\n",
       "      <td>40513</td>\n",
       "      <td>4998</td>\n",
       "      <td>3701</td>\n",
       "      <td>1916</td>\n",
       "      <td>partner</td>\n",
       "    </tr>\n",
       "  </tbody>\n",
       "</table>\n",
       "</div>"
      ],
      "text/plain": [
       "         data  body ID  loc (x)  loc (y)  loc (z) category\n",
       "366085  52869    84374     5007     3457     2368  partner\n",
       "366086  52870    42310     5010     3684     1906  partner\n",
       "366087  52870    16699     4999     3695     1906  partner\n",
       "366088  52870    33690     5003     3704     1896  partner\n",
       "366089  52870    40513     4998     3701     1916  partner"
      ]
     },
     "execution_count": 12,
     "metadata": {},
     "output_type": "execute_result"
    }
   ],
   "source": [
    "synapse_df = tbar_df.append(partner_df).reset_index(drop=True)\n",
    "\n",
    "synapse_df.tail(5)\n"
   ]
  },
  {
   "cell_type": "code",
   "execution_count": 13,
   "metadata": {
    "collapsed": true,
    "scrolled": true
   },
   "outputs": [],
   "source": [
    "# Get location of synapse inside of example:\n",
    "xmin = 3253\n",
    "xmax = 3773\n",
    "ymin = 2103\n",
    "ymax = 2623\n",
    "zmin = 3490\n",
    "zmax = 4010\n",
    "\n",
    "x_cond = (synapse_df['loc (x)'] >= xmin) & (synapse_df['loc (x)'] <= xmax)\n",
    "y_cond = (synapse_df['loc (y)'] >= ymin) & (synapse_df['loc (y)'] <= ymax)\n",
    "z_cond = (synapse_df['loc (z)'] >= zmin) & (synapse_df['loc (z)'] <= zmax)\n",
    "\n",
    "valid_synapse = synapse_df[x_cond & y_cond & z_cond]\n"
   ]
  },
  {
   "cell_type": "code",
   "execution_count": 14,
   "metadata": {},
   "outputs": [
    {
     "data": {
      "image/png": "[encoded data removed]",
      "text/plain": [
       "<matplotlib.figure.Figure at 0x7f6d56d32450>"
      ]
     },
     "metadata": {},
     "output_type": "display_data"
    }
   ],
   "source": [
    "fig = plt.figure(figsize=(10, 8))\n",
    "ax = fig.add_subplot(111, projection='3d')\n",
    "    \n",
    "ax.scatter(valid_synapse.iloc[:, 2],\n",
    "           valid_synapse.iloc[:, 3],\n",
    "           valid_synapse.iloc[:, 4], marker='o', label=valid_synapse.iloc[:,5], alpha=0.1)    \n",
    "  \n",
    "ax.set_zlim(zmin, zmax)\n",
    "ax.set_ylim(ymin, ymax)\n",
    "ax.set_xlim(xmin, xmax)\n",
    "    \n",
    "ax.set_xlabel('X Label')\n",
    "ax.set_ylabel('Y Label')\n",
    "ax.set_zlabel('Z Label')\n",
    "\n",
    "plt.show()"
   ]
  },
  {
   "cell_type": "markdown",
   "metadata": {},
   "source": [
    "## Save and load"
   ]
  },
  {
   "cell_type": "code",
   "execution_count": 35,
   "metadata": {
    "collapsed": true
   },
   "outputs": [],
   "source": [
    "import pickle\n",
    "\n",
    "def namestr(obj, namespace):\n",
    "    return [name for name in namespace if namespace[name] is obj]\n",
    "\n",
    "def save_object(input_object):\n",
    "    name = namestr(input_object, globals())[0]\n",
    "    with open('./save/' + name + '.dmp', 'wb') as f:\n",
    "        pickle.dump(input_object, f)\n",
    "        \n",
    "def load_object(input_object):\n",
    "    name = namestr(input_object, globals())[0]\n",
    "    with open('./save/' + name + '.dmp', 'rb') as f:\n",
    "        loaded_f = pickle.load(f)\n",
    "    return loaded_f"
   ]
  },
  {
   "cell_type": "code",
   "execution_count": 34,
   "metadata": {
    "collapsed": true
   },
   "outputs": [],
   "source": [
    "import h5py\n",
    "import numpy as np\n",
    "# conda install -c anaconda h5py\n",
    "\"\"\"\n",
    "Reference : https://stackoverflow.com/questions/27710245/is-there-an-analysis-speed-or-memory-usage-advantage-to-using-hdf5-for-large-arr\n",
    "Saving 'thousand_gry' as np.array-from, its size is 2.7GB\n",
    "but saving 'thousand_gry' as hdf-from, its size is 1.1GB\n",
    "\"\"\"\n",
    "def hdf_read(path, keyword):\n",
    "    f = h5py.File(path, 'r')\n",
    "    return f[keyword]\n",
    "\n",
    "def hdf_write(path, keyword, data):\n",
    "    with h5py.File(path, 'w') as outfile:\n",
    "        dset = dset = outfile.create_dataset(keyword, data=data, chunks=True)"
   ]
  },
  {
   "cell_type": "markdown",
   "metadata": {},
   "source": [
    "# get a neuron_gt"
   ]
  },
  {
   "cell_type": "code",
   "execution_count": 7,
   "metadata": {
    "scrolled": true
   },
   "outputs": [
    {
     "name": "stdout",
     "output_type": "stream",
     "text": [
      "loading neuron_gt complete\n"
     ]
    }
   ],
   "source": [
    "import os\n",
    "if not os.path.exists(\"./save/neuron_gt.dmp\"):\n",
    "    ##!! First, you have to laod a origin_gt_cube from diced server\n",
    "    # Get neuron_coordinates\n",
    "    neuron_coord_z = valid_synapse['loc (z)'].values\n",
    "    neuron_coord_y = valid_synapse['loc (y)'].values\n",
    "    neuron_coord_x = valid_synapse['loc (x)'].values\n",
    "\n",
    "    assert len(neuron_coord_z) == len(neuron_coord_y) == len(neuron_coord_x)\n",
    "    \n",
    "    # Get a neuron_gt list\n",
    "    neuron_gt = []\n",
    "    for z,y,x in zip(neuron_coord_z, neuron_coord_y, neuron_coord_x):\n",
    "        val = (int)(origin_gt_cube[z:z+1,y:y+1,x:x+1].flatten().tolist()[0])\n",
    "        if not val in neuron_gt:\n",
    "            neuron_gt.append(val)\n",
    "    save_object(neuron_gt)\n",
    "    print(\"saving neuron_gt complete\")\n",
    "else:\n",
    "    neuron_gt=[] # Define a dummy variable to get a variable's name\n",
    "    neuron_gt = load_object(neuron_gt)\n",
    "    print(\"loading neuron_gt complete\")"
   ]
  },
  {
   "cell_type": "code",
   "execution_count": 8,
   "metadata": {},
   "outputs": [
    {
     "data": {
      "text/plain": [
       "[38210,\n",
       " 163355,\n",
       " 48661,\n",
       " 10693,\n",
       " 498812,\n",
       " 7021,\n",
       " 192082,\n",
       " 7131,\n",
       " 172939,\n",
       " 7463,\n",
       " 158346,\n",
       " 172374,\n",
       " 212546,\n",
       " 212511,\n",
       " 160142,\n",
       " 200348,\n",
       " 7892,\n",
       " 151837,\n",
       " 199521,\n",
       " 28668,\n",
       " 8502,\n",
       " 149686,\n",
       " 700,\n",
       " 225006,\n",
       " 160441,\n",
       " 17092,\n",
       " 16677,\n",
       " 48665,\n",
       " 16497,\n",
       " 199572,\n",
       " 212958,\n",
       " 211501,\n",
       " 161075,\n",
       " 284014,\n",
       " 211627,\n",
       " 160336,\n",
       " 212897,\n",
       " 19223,\n",
       " 161124,\n",
       " 31749,\n",
       " 166862,\n",
       " 160708,\n",
       " 211867,\n",
       " 161173,\n",
       " 212997,\n",
       " 26486,\n",
       " 212129,\n",
       " 16660,\n",
       " 16681,\n",
       " 211628,\n",
       " 26471,\n",
       " 26353,\n",
       " 273324,\n",
       " 26747,\n",
       " 27910,\n",
       " 96147,\n",
       " 18274,\n",
       " 211482,\n",
       " 159919,\n",
       " 21969,\n",
       " 1896,\n",
       " 211513,\n",
       " 269760,\n",
       " 148895,\n",
       " 199729,\n",
       " 199877,\n",
       " 200133,\n",
       " 200137,\n",
       " 200199,\n",
       " 8749,\n",
       " 201401,\n",
       " 213408,\n",
       " 149154,\n",
       " 58969,\n",
       " 384007,\n",
       " 200461,\n",
       " 16699,\n",
       " 2374,\n",
       " 202336,\n",
       " 7086,\n",
       " 149522,\n",
       " 211722,\n",
       " 200796,\n",
       " 138938,\n",
       " 201081,\n",
       " 200380,\n",
       " 147831,\n",
       " 148949,\n",
       " 212120,\n",
       " 212389,\n",
       " 9423,\n",
       " 213364,\n",
       " 3226854,\n",
       " 212803,\n",
       " 201071,\n",
       " 200020,\n",
       " 201430,\n",
       " 199491,\n",
       " 201465,\n",
       " 201525,\n",
       " 212329,\n",
       " 18326,\n",
       " 302,\n",
       " 213200,\n",
       " 201543,\n",
       " 213205,\n",
       " 199486,\n",
       " 211822,\n",
       " 148875,\n",
       " 212150,\n",
       " 213134,\n",
       " 201489,\n",
       " 216366,\n",
       " 212989,\n",
       " 212623,\n",
       " 200308,\n",
       " 201080,\n",
       " 212306,\n",
       " 212261,\n",
       " 148103,\n",
       " 200517,\n",
       " 213435,\n",
       " 213193,\n",
       " 213941,\n",
       " 213586,\n",
       " 211664,\n",
       " 48678,\n",
       " 149594,\n",
       " 199871,\n",
       " 211679,\n",
       " 211723,\n",
       " 2585781,\n",
       " 212014,\n",
       " 161391,\n",
       " 211517,\n",
       " 269790,\n",
       " 269782,\n",
       " 212696,\n",
       " 211709,\n",
       " 200546,\n",
       " 213098,\n",
       " 149663,\n",
       " 149628,\n",
       " 149696,\n",
       " 211924,\n",
       " 211708,\n",
       " 212345,\n",
       " 212643,\n",
       " 211534,\n",
       " 212795,\n",
       " 212903,\n",
       " 139045,\n",
       " 7595,\n",
       " 13019,\n",
       " 199500,\n",
       " 94220,\n",
       " 211787,\n",
       " 211632,\n",
       " 211821,\n",
       " 211906,\n",
       " 166449,\n",
       " 212183,\n",
       " 212271,\n",
       " 161009,\n",
       " 213925,\n",
       " 149538,\n",
       " 211707,\n",
       " 212333,\n",
       " 88847,\n",
       " 212676,\n",
       " 211738,\n",
       " 211830,\n",
       " 269806,\n",
       " 212009,\n",
       " 211665,\n",
       " 16495,\n",
       " 212088,\n",
       " 12629,\n",
       " 149488,\n",
       " 212176,\n",
       " 212790,\n",
       " 213007,\n",
       " 211528,\n",
       " 211547,\n",
       " 213678,\n",
       " 213732,\n",
       " 213969,\n",
       " 256205,\n",
       " 200299,\n",
       " 212833,\n",
       " 201273,\n",
       " 212040,\n",
       " 149163,\n",
       " 149281,\n",
       " 149551,\n",
       " 149314,\n",
       " 149462,\n",
       " 211752,\n",
       " 161414,\n",
       " 212279,\n",
       " 212312,\n",
       " 8787,\n",
       " 88935,\n",
       " 160575,\n",
       " 161203,\n",
       " 213830,\n",
       " 214019,\n",
       " 214180,\n",
       " 217221,\n",
       " 213860,\n",
       " 211548,\n",
       " 211502,\n",
       " 8499,\n",
       " 212965,\n",
       " 211690,\n",
       " 4035,\n",
       " 211545,\n",
       " 213565,\n",
       " 211533,\n",
       " 805065,\n",
       " 213697,\n",
       " 211506,\n",
       " 22301,\n",
       " 211590,\n",
       " 16652,\n",
       " 212534,\n",
       " 212694,\n",
       " 212802,\n",
       " 211656,\n",
       " 211629,\n",
       " 212031,\n",
       " 212470,\n",
       " 212809,\n",
       " 24114,\n",
       " 96363,\n",
       " 212121,\n",
       " 211711,\n",
       " 211955,\n",
       " 211968,\n",
       " 212985,\n",
       " 212343,\n",
       " 152267,\n",
       " 212700,\n",
       " 212693,\n",
       " 71472,\n",
       " 160413,\n",
       " 213320,\n",
       " 213315,\n",
       " 213566,\n",
       " 213194,\n",
       " 213500,\n",
       " 213709,\n",
       " 212891,\n",
       " 211557,\n",
       " 213366,\n",
       " 95173,\n",
       " 211592,\n",
       " 213089,\n",
       " 212224,\n",
       " 211767,\n",
       " 149633,\n",
       " 211680,\n",
       " 211670,\n",
       " 211543,\n",
       " 160518,\n",
       " 212033,\n",
       " 212046,\n",
       " 212023,\n",
       " 212874,\n",
       " 8933154,\n",
       " 211577,\n",
       " 211532,\n",
       " 211478,\n",
       " 212819,\n",
       " 211891,\n",
       " 211956,\n",
       " 212462,\n",
       " 3217140,\n",
       " 141040,\n",
       " 212128,\n",
       " 211912,\n",
       " 211716,\n",
       " 138635,\n",
       " 211981,\n",
       " 212378,\n",
       " 212359,\n",
       " 211878,\n",
       " 211718,\n",
       " 212188,\n",
       " 211489,\n",
       " 212478,\n",
       " 212863,\n",
       " 273339,\n",
       " 50809,\n",
       " 213353,\n",
       " 212630,\n",
       " 211536,\n",
       " 447425,\n",
       " 30465,\n",
       " 213713,\n",
       " 160904,\n",
       " 161000,\n",
       " 35752,\n",
       " 137587,\n",
       " 3211085,\n",
       " 211641,\n",
       " 211645,\n",
       " 3219130,\n",
       " 212576,\n",
       " 213451,\n",
       " 213477,\n",
       " 213504,\n",
       " 213547,\n",
       " 213527,\n",
       " 211793,\n",
       " 161019,\n",
       " 212480,\n",
       " 50240,\n",
       " 161070,\n",
       " 212177,\n",
       " 149247,\n",
       " 161290,\n",
       " 273366,\n",
       " 211541,\n",
       " 212712,\n",
       " 211823,\n",
       " 212808,\n",
       " 216259,\n",
       " 213806,\n",
       " 213398,\n",
       " 3215573,\n",
       " 212797,\n",
       " 213188,\n",
       " 213378,\n",
       " 212335,\n",
       " 61465,\n",
       " 212951,\n",
       " 212999,\n",
       " 211916,\n",
       " 211772,\n",
       " 212412,\n",
       " 215204,\n",
       " 161430,\n",
       " 211728,\n",
       " 211542,\n",
       " 212850,\n",
       " 213333,\n",
       " 212080,\n",
       " 212251,\n",
       " 215979,\n",
       " 216266,\n",
       " 3210041,\n",
       " 3222567,\n",
       " 3225524,\n",
       " 3210061,\n",
       " 211530,\n",
       " 3227122,\n",
       " 16571,\n",
       " 3224775,\n",
       " 38109,\n",
       " 212540,\n",
       " 213548,\n",
       " 212202,\n",
       " 212794,\n",
       " 212326,\n",
       " 26442,\n",
       " 211600,\n",
       " 211486,\n",
       " 212055,\n",
       " 139663,\n",
       " 211499,\n",
       " 211658,\n",
       " 211660,\n",
       " 211770,\n",
       " 211657,\n",
       " 211674,\n",
       " 212147,\n",
       " 211911,\n",
       " 212204,\n",
       " 212933,\n",
       " 18200,\n",
       " 18488,\n",
       " 211559,\n",
       " 17238,\n",
       " 212013,\n",
       " 212169,\n",
       " 211905,\n",
       " 216295,\n",
       " 213261,\n",
       " 211692,\n",
       " 211862,\n",
       " 107581,\n",
       " 212069,\n",
       " 212122,\n",
       " 161155,\n",
       " 212753,\n",
       " 212484,\n",
       " 213373,\n",
       " 212445,\n",
       " 211483,\n",
       " 212697,\n",
       " 213272,\n",
       " 214539,\n",
       " 214325,\n",
       " 212113,\n",
       " 212038,\n",
       " 211952,\n",
       " 214716,\n",
       " 213011,\n",
       " 213022,\n",
       " 212475,\n",
       " 212584,\n",
       " 212536,\n",
       " 212709,\n",
       " 212617,\n",
       " 211642,\n",
       " 211838,\n",
       " 212383,\n",
       " 95963,\n",
       " 212051,\n",
       " 212067,\n",
       " 160301,\n",
       " 161281,\n",
       " 161109,\n",
       " 211737,\n",
       " 212075,\n",
       " 213465,\n",
       " 212768,\n",
       " 216704,\n",
       " 212542,\n",
       " 36474,\n",
       " 211503,\n",
       " 211538,\n",
       " 224380,\n",
       " 212691,\n",
       " 223617,\n",
       " 225750,\n",
       " 225550,\n",
       " 3223932,\n",
       " 3225368,\n",
       " 213238,\n",
       " 212554,\n",
       " 213248,\n",
       " 213804,\n",
       " 284020,\n",
       " 211653,\n",
       " 211650,\n",
       " 212296,\n",
       " 212596,\n",
       " 213139,\n",
       " 224567,\n",
       " 224488,\n",
       " 213016,\n",
       " 224665,\n",
       " 213061,\n",
       " 224183,\n",
       " 224214,\n",
       " 224201,\n",
       " 223891,\n",
       " 223905,\n",
       " 212236,\n",
       " 161383,\n",
       " 161161,\n",
       " 211726,\n",
       " 223537,\n",
       " 224146,\n",
       " 212425,\n",
       " 223818,\n",
       " 212322,\n",
       " 225411,\n",
       " 211544,\n",
       " 212197,\n",
       " 212151,\n",
       " 256356,\n",
       " 225665,\n",
       " 223374,\n",
       " 223420,\n",
       " 211618]"
      ]
     },
     "execution_count": 8,
     "metadata": {},
     "output_type": "execute_result"
    }
   ],
   "source": [
    "neuron_gt"
   ]
  },
  {
   "cell_type": "code",
   "execution_count": 9,
   "metadata": {},
   "outputs": [
    {
     "data": {
      "text/plain": [
       "True"
      ]
     },
     "execution_count": 9,
     "metadata": {},
     "output_type": "execute_result"
    }
   ],
   "source": [
    "1896 in neuron_gt "
   ]
  },
  {
   "cell_type": "code",
   "execution_count": 10,
   "metadata": {},
   "outputs": [
    {
     "ename": "NameError",
     "evalue": "name 'valid_synapse' is not defined",
     "output_type": "error",
     "traceback": [
      "\u001b[0;31m---------------------------------------------------------------------------\u001b[0m",
      "\u001b[0;31mNameError\u001b[0m                                 Traceback (most recent call last)",
      "\u001b[0;32m<ipython-input-10-29fae7a4a059>\u001b[0m in \u001b[0;36m<module>\u001b[0;34m()\u001b[0m\n\u001b[1;32m      1\u001b[0m \u001b[0;31m# check all \"body ID\" made by neuron_gt\u001b[0m\u001b[0;34m\u001b[0m\u001b[0;34m\u001b[0m\u001b[0m\n\u001b[0;32m----> 2\u001b[0;31m \u001b[0mneuron_ids\u001b[0m \u001b[0;34m=\u001b[0m \u001b[0mvalid_synapse\u001b[0m\u001b[0;34m[\u001b[0m\u001b[0;34m'body ID'\u001b[0m\u001b[0;34m]\u001b[0m\u001b[0;34m.\u001b[0m\u001b[0mvalues\u001b[0m\u001b[0;34m\u001b[0m\u001b[0m\n\u001b[0m\u001b[1;32m      3\u001b[0m \u001b[0;34m\u001b[0m\u001b[0m\n\u001b[1;32m      4\u001b[0m \u001b[0;32mfor\u001b[0m \u001b[0mi\u001b[0m \u001b[0;32min\u001b[0m \u001b[0mneuron_ids\u001b[0m\u001b[0;34m.\u001b[0m\u001b[0mtolist\u001b[0m\u001b[0;34m(\u001b[0m\u001b[0;34m)\u001b[0m\u001b[0;34m:\u001b[0m\u001b[0;34m\u001b[0m\u001b[0m\n\u001b[1;32m      5\u001b[0m     \u001b[0;32mif\u001b[0m \u001b[0;32mnot\u001b[0m \u001b[0mi\u001b[0m \u001b[0;32min\u001b[0m \u001b[0mneuron_gt\u001b[0m\u001b[0;34m:\u001b[0m\u001b[0;34m\u001b[0m\u001b[0m\n",
      "\u001b[0;31mNameError\u001b[0m: name 'valid_synapse' is not defined"
     ]
    }
   ],
   "source": [
    "# check all \"body ID\" made by neuron_gt\n",
    "neuron_ids = valid_synapse['body ID'].values\n",
    "\n",
    "for i in neuron_ids.tolist():\n",
    "    if not i in neuron_gt:\n",
    "        print(\"%d 없음\" % i)"
   ]
  },
  {
   "cell_type": "markdown",
   "metadata": {},
   "source": [
    "# Get neuron get cube and non_neuron_gt_cube"
   ]
  },
  {
   "cell_type": "code",
   "execution_count": 11,
   "metadata": {},
   "outputs": [
    {
     "ename": "NameError",
     "evalue": "name 'diced_gt' is not defined",
     "output_type": "error",
     "traceback": [
      "\u001b[0;31m---------------------------------------------------------------------------\u001b[0m",
      "\u001b[0;31mNameError\u001b[0m                                 Traceback (most recent call last)",
      "\u001b[0;32m<ipython-input-11-c80ca71c7df2>\u001b[0m in \u001b[0;36m<module>\u001b[0;34m()\u001b[0m\n\u001b[0;32m----> 1\u001b[0;31m \u001b[0mindice_bool\u001b[0m \u001b[0;34m=\u001b[0m \u001b[0mnp\u001b[0m\u001b[0;34m.\u001b[0m\u001b[0misin\u001b[0m\u001b[0;34m(\u001b[0m\u001b[0mdiced_gt\u001b[0m\u001b[0;34m,\u001b[0m\u001b[0mneuron_ids\u001b[0m\u001b[0;34m)\u001b[0m\u001b[0;34m\u001b[0m\u001b[0m\n\u001b[0m\u001b[1;32m      2\u001b[0m \u001b[0mindice\u001b[0m \u001b[0;34m=\u001b[0m \u001b[0mnp\u001b[0m\u001b[0;34m.\u001b[0m\u001b[0mwhere\u001b[0m\u001b[0;34m(\u001b[0m\u001b[0mindice_bool\u001b[0m\u001b[0;34m)\u001b[0m\u001b[0;34m\u001b[0m\u001b[0m\n",
      "\u001b[0;31mNameError\u001b[0m: name 'diced_gt' is not defined"
     ]
    }
   ],
   "source": [
    "indice_bool = np.isin(diced_gt,neuron_ids)\n",
    "indice = np.where(indice_bool)"
   ]
  },
  {
   "cell_type": "code",
   "execution_count": 12,
   "metadata": {},
   "outputs": [
    {
     "ename": "NameError",
     "evalue": "name 'indice' is not defined",
     "output_type": "error",
     "traceback": [
      "\u001b[0;31m---------------------------------------------------------------------------\u001b[0m",
      "\u001b[0;31mNameError\u001b[0m                                 Traceback (most recent call last)",
      "\u001b[0;32m<ipython-input-12-d98d8449be13>\u001b[0m in \u001b[0;36m<module>\u001b[0;34m()\u001b[0m\n\u001b[0;32m----> 1\u001b[0;31m \u001b[0mindice\u001b[0m\u001b[0;34m\u001b[0m\u001b[0m\n\u001b[0m",
      "\u001b[0;31mNameError\u001b[0m: name 'indice' is not defined"
     ]
    }
   ],
   "source": [
    "indice"
   ]
  },
  {
   "cell_type": "code",
   "execution_count": 13,
   "metadata": {},
   "outputs": [
    {
     "ename": "NameError",
     "evalue": "name 'diced_gt' is not defined",
     "output_type": "error",
     "traceback": [
      "\u001b[0;31m---------------------------------------------------------------------------\u001b[0m",
      "\u001b[0;31mNameError\u001b[0m                                 Traceback (most recent call last)",
      "\u001b[0;32m<ipython-input-13-063533235bc0>\u001b[0m in \u001b[0;36m<module>\u001b[0;34m()\u001b[0m\n\u001b[0;32m----> 1\u001b[0;31m \u001b[0mdiced_gt\u001b[0m\u001b[0;34m[\u001b[0m\u001b[0;36m0\u001b[0m\u001b[0;34m,\u001b[0m\u001b[0;36m7\u001b[0m\u001b[0;34m,\u001b[0m\u001b[0;36m469\u001b[0m\u001b[0;34m]\u001b[0m \u001b[0;32min\u001b[0m \u001b[0mneuron_gt\u001b[0m\u001b[0;34m\u001b[0m\u001b[0m\n\u001b[0m",
      "\u001b[0;31mNameError\u001b[0m: name 'diced_gt' is not defined"
     ]
    }
   ],
   "source": [
    "diced_gt[0,7,469] in neuron_gt"
   ]
  },
  {
   "cell_type": "code",
   "execution_count": 14,
   "metadata": {
    "collapsed": true
   },
   "outputs": [],
   "source": [
    "# neuron_gt_cube = np.zeros((diced_gt.shape), dtype=np.int)\n",
    "# non_neuron_gt_cube = diced_gt.copy()\n",
    "\n",
    "# for z,y,x in zip(indice[0], indice[1], indice[2]):\n",
    "#     neuron_gt_cube[z,y,x] = diced_gt[z,y,x]\n",
    "#     non_neuron_gt_cube[z,y,x] = 0\n",
    "#     if not diced_gt[z,y,x] in neuron_gt :\n",
    "#         print('% d is not in neuron_gt' % diced_gt[z,y,x])"
   ]
  },
  {
   "cell_type": "code",
   "execution_count": 15,
   "metadata": {},
   "outputs": [
    {
     "ename": "NameError",
     "evalue": "name 'diced_gt' is not defined",
     "output_type": "error",
     "traceback": [
      "\u001b[0;31m---------------------------------------------------------------------------\u001b[0m",
      "\u001b[0;31mNameError\u001b[0m                                 Traceback (most recent call last)",
      "\u001b[0;32m<ipython-input-15-a858c89e065d>\u001b[0m in \u001b[0;36m<module>\u001b[0;34m()\u001b[0m\n\u001b[0;32m----> 1\u001b[0;31m \u001b[0mneuron_gt_cube\u001b[0m \u001b[0;34m=\u001b[0m \u001b[0mnp\u001b[0m\u001b[0;34m.\u001b[0m\u001b[0mzeros\u001b[0m\u001b[0;34m(\u001b[0m\u001b[0;34m(\u001b[0m\u001b[0mdiced_gt\u001b[0m\u001b[0;34m.\u001b[0m\u001b[0mshape\u001b[0m\u001b[0;34m)\u001b[0m\u001b[0;34m,\u001b[0m \u001b[0mdtype\u001b[0m\u001b[0;34m=\u001b[0m\u001b[0mnp\u001b[0m\u001b[0;34m.\u001b[0m\u001b[0mint\u001b[0m\u001b[0;34m)\u001b[0m\u001b[0;34m\u001b[0m\u001b[0m\n\u001b[0m\u001b[1;32m      2\u001b[0m \u001b[0mnon_neuron_gt_cube\u001b[0m \u001b[0;34m=\u001b[0m \u001b[0mdiced_gt\u001b[0m\u001b[0;34m.\u001b[0m\u001b[0mcopy\u001b[0m\u001b[0;34m(\u001b[0m\u001b[0;34m)\u001b[0m\u001b[0;34m\u001b[0m\u001b[0m\n\u001b[1;32m      3\u001b[0m \u001b[0;34m\u001b[0m\u001b[0m\n\u001b[1;32m      4\u001b[0m \u001b[0mneuron_gt_cube\u001b[0m\u001b[0;34m[\u001b[0m\u001b[0mindice\u001b[0m\u001b[0;34m]\u001b[0m \u001b[0;34m=\u001b[0m \u001b[0mdiced_gt\u001b[0m\u001b[0;34m[\u001b[0m\u001b[0mindice\u001b[0m\u001b[0;34m]\u001b[0m\u001b[0;34m\u001b[0m\u001b[0m\n\u001b[1;32m      5\u001b[0m \u001b[0mnon_neuron_gt_cube\u001b[0m\u001b[0;34m[\u001b[0m\u001b[0mindice\u001b[0m\u001b[0;34m]\u001b[0m \u001b[0;34m=\u001b[0m \u001b[0;36m0\u001b[0m\u001b[0;34m\u001b[0m\u001b[0m\n",
      "\u001b[0;31mNameError\u001b[0m: name 'diced_gt' is not defined"
     ]
    }
   ],
   "source": [
    "neuron_gt_cube = np.zeros((diced_gt.shape), dtype=np.int)\n",
    "non_neuron_gt_cube = diced_gt.copy()\n",
    "\n",
    "neuron_gt_cube[indice] = diced_gt[indice]\n",
    "non_neuron_gt_cube[indice] = 0"
   ]
  },
  {
   "cell_type": "code",
   "execution_count": 16,
   "metadata": {
    "scrolled": false
   },
   "outputs": [
    {
     "ename": "NameError",
     "evalue": "name 'neuron_gt_cube' is not defined",
     "output_type": "error",
     "traceback": [
      "\u001b[0;31m---------------------------------------------------------------------------\u001b[0m",
      "\u001b[0;31mNameError\u001b[0m                                 Traceback (most recent call last)",
      "\u001b[0;32m<ipython-input-16-51b5553fe480>\u001b[0m in \u001b[0;36m<module>\u001b[0;34m()\u001b[0m\n\u001b[0;32m----> 1\u001b[0;31m \u001b[0mnp\u001b[0m\u001b[0;34m.\u001b[0m\u001b[0munique\u001b[0m\u001b[0;34m(\u001b[0m\u001b[0mneuron_gt_cube\u001b[0m\u001b[0;34m)\u001b[0m\u001b[0;34m\u001b[0m\u001b[0m\n\u001b[0m",
      "\u001b[0;31mNameError\u001b[0m: name 'neuron_gt_cube' is not defined"
     ]
    }
   ],
   "source": [
    "np.unique(neuron_gt_cube)"
   ]
  },
  {
   "cell_type": "markdown",
   "metadata": {},
   "source": [
    "# Draw a neuron scatter plot"
   ]
  },
  {
   "cell_type": "code",
   "execution_count": 17,
   "metadata": {
    "collapsed": true
   },
   "outputs": [],
   "source": [
    "neuron_gt_cube_path = \"./save/neuron_gt_cube.hdf\"\n",
    "non_neuron_gt_cube_path = \"./save/non_neuron_gt_cube.hdf\"\n",
    "\n",
    "if not (os.path.exists(\"./save/neuron_gt_cube.hdf\") and os.path.exists(\"./save/non_neuron_gt_cube.hdf\")):\n",
    "    hdf_write(neuron_gt_cube_path, \"neuron_gt_cube\", neuron_gt_cube)\n",
    "    hdf_write(non_neuron_gt_cube_path, \"non_neuron_gt_cube\", non_neuron_gt_cube)\n",
    "else:\n",
    "    neuron_gt_cube = np.array(hdf_read(neuron_gt_cube_path, \"neuron_gt_cube\"))\n",
    "    non_neuron_gt_cube = np.array(hdf_read(non_neuron_gt_cube_path, \"non_neuron_gt_cube\"))\n"
   ]
  },
  {
   "cell_type": "code",
   "execution_count": 18,
   "metadata": {
    "collapsed": true
   },
   "outputs": [],
   "source": [
    "\"\"\"\n",
    "##!#!#!# Caution #!#!#!##\n",
    "If you run this code, you will be wait long time\n",
    "as you want to run this, unannotate last line\n",
    "'neuron_gt_cube.vtk' is 10.0GB\n",
    "\"\"\"\n",
    "from tvtk.api import tvtk, write_data\n",
    "# conda install -c anaconda mayavi \n",
    "def array2vtk(data, name):\n",
    "    grid = tvtk.ImageData(spacing=(1,1,1), origin=(0, 0, 0), dimensions=data.shape)\n",
    "    grid.point_data.scalars = data.ravel()\n",
    "    grid.point_data.scalars.name = name\n",
    "\n",
    "#     write_data(grid, './save/'+ name + '.vtk')"
   ]
  },
  {
   "cell_type": "code",
   "execution_count": 19,
   "metadata": {
    "collapsed": true
   },
   "outputs": [],
   "source": [
    "array2vtk(neuron_gt_cube, \"neuron_gt_cube\")\n",
    "array2vtk(non_neuron_gt_cube, \"non_neuron_gt_cube\")"
   ]
  },
  {
   "cell_type": "markdown",
   "metadata": {},
   "source": [
    "-------------------------------------------------------------------------------------------------------------------------"
   ]
  },
  {
   "cell_type": "code",
   "execution_count": 20,
   "metadata": {},
   "outputs": [
    {
     "data": {
      "text/plain": [
       "array([0, 1])"
      ]
     },
     "execution_count": 20,
     "metadata": {},
     "output_type": "execute_result"
    }
   ],
   "source": [
    "indice_bool = np.isin(neuron_gt_cube,1896)\n",
    "indice = np.where(indice_bool)\n",
    "\n",
    "mask = np.zeros((neuron_gt_cube.shape), dtype=np.int)\n",
    "mask[indice] = 1\n",
    "np.unique(mask)"
   ]
  },
  {
   "cell_type": "code",
   "execution_count": 24,
   "metadata": {
    "collapsed": true
   },
   "outputs": [],
   "source": [
    "from mayavi import mlab\n",
    "import numpy as np\n",
    "mlab.contour3d(mask)\n",
    "mlab.show()\n",
    "# neuron_gt_cube.shape"
   ]
  },
  {
   "cell_type": "code",
   "execution_count": 16,
   "metadata": {
    "collapsed": true
   },
   "outputs": [],
   "source": [
    "a = (neuron_gt_cube == 1896).astype(np.int)"
   ]
  },
  {
   "cell_type": "code",
   "execution_count": 41,
   "metadata": {},
   "outputs": [
    {
     "data": {
      "text/plain": [
       "1"
      ]
     },
     "execution_count": 41,
     "metadata": {},
     "output_type": "execute_result"
    }
   ],
   "source": [
    "np.unique(a.flatten()).tolist().count(1)"
   ]
  },
  {
   "cell_type": "code",
   "execution_count": 26,
   "metadata": {
    "collapsed": true
   },
   "outputs": [],
   "source": [
    "import matplotlib.pyplot as plt\n",
    "from skimage.morphology import skeletonize, skeletonize_3d\n",
    "from skimage.data import binary_blobs\n",
    "\n",
    "skeleton3d = skeletonize_3d(mask)\n",
    "mlab.contour3d(skeleton3d)\n",
    "mlab.show()\n",
    "mlab.contour3d(mask)\n",
    "mlab.show()"
   ]
  },
  {
   "cell_type": "markdown",
   "metadata": {
    "collapsed": true
   },
   "source": [
    "--------------------------------------------------------------------------------------------------------"
   ]
  },
  {
   "cell_type": "markdown",
   "metadata": {
    "collapsed": true
   },
   "source": [
    "# Make a data bundle (150 x 150 x 150 * 21)"
   ]
  },
  {
   "cell_type": "code",
   "execution_count": 57,
   "metadata": {},
   "outputs": [],
   "source": [
    "import json\n",
    "import numpy as np\n",
    "from mpl_toolkits.mplot3d import Axes3D\n",
    "import matplotlib.pyplot as plt\n",
    "import os\n",
    "\n",
    "from diced import DicedStore\n",
    "\n",
    "store = DicedStore(\"gs://flyem-public-connectome\")\n",
    "repo_grayscale = store.open_repo(\"medulla7column\")\n",
    "repo_groundtruth = store.open_repo(\"medulla7column\")\n"
   ]
  },
  {
   "cell_type": "code",
   "execution_count": 58,
   "metadata": {
    "collapsed": true
   },
   "outputs": [],
   "source": [
    "grayscale = repo_grayscale.get_array(\"grayscale\")\n",
    "groundtruth = repo_groundtruth.get_array(\"groundtruth\")"
   ]
  },
  {
   "cell_type": "code",
   "execution_count": 59,
   "metadata": {
    "scrolled": true
   },
   "outputs": [
    {
     "data": {
      "text/plain": [
       "array([[ 53,  77, 101, 149],\n",
       "       [ 53,  78, 101, 149],\n",
       "       [ 53,  79, 101, 149],\n",
       "       [ 53,  80, 101, 149],\n",
       "       [ 53,  81, 101, 149]])"
      ]
     },
     "execution_count": 59,
     "metadata": {},
     "output_type": "execute_result"
    }
   ],
   "source": [
    "import json\n",
    "import numpy as np\n",
    "import pandas as pd\n",
    "from mpl_toolkits.mplot3d import Axes3D\n",
    "import matplotlib.pyplot as plt\n",
    "\n",
    "# Open roi.json file and specify as a numpy array:\n",
    "\n",
    "with open('json_repo/roi.json', 'r') as f:\n",
    "    data = json.load(f)\n",
    "    \n",
    "roi_idx = np.array(data)\n",
    "\n",
    "# len(roi_idx)\n",
    "roi_idx[0:5]\n"
   ]
  },
  {
   "cell_type": "code",
   "execution_count": 60,
   "metadata": {
    "collapsed": true
   },
   "outputs": [],
   "source": [
    "old_xmin = 3253\n",
    "old_xmax = 3773\n",
    "old_ymin = 2103\n",
    "old_ymax = 2623\n",
    "old_zmin = 3490\n",
    "old_zmax = 4010\n",
    "\n",
    "def check_coord_in_old(z_coord, y_coord, x_coord, idx):\n",
    "    if z_coord >= old_zmin and z_coord <= old_zmax \\\n",
    "        and y_coord >= old_ymin and y_coord <=old_ymax \\\n",
    "        and x_start+idx*150 >= old_xmin and x_start+idx*150 + 150 <=old_xmax :\n",
    "        return True\n",
    "    else:\n",
    "        return False"
   ]
  },
  {
   "cell_type": "code",
   "execution_count": 61,
   "metadata": {
    "collapsed": true
   },
   "outputs": [],
   "source": [
    "import math\n",
    "roi_coord = roi_idx * 32\n",
    "\n",
    "container = []\n",
    "z_temp = 0\n",
    "y_temp = 0\n",
    "\n",
    "for idx in range(len(roi_coord)):\n",
    "    z_coord = roi_coord[idx][0]\n",
    "    y_coord = roi_coord[idx][1]\n",
    "    if (math.fabs(y_temp - y_coord) >= 150 and math.fabs(z_temp - z_coord) >= 150):\n",
    "        x_start = roi_coord[idx][2]\n",
    "        x_end   = roi_coord[idx][3]\n",
    "        for idx in range((x_end - x_start)/ 150):\n",
    "            if not check_coord_in_old(z_coord, y_coord, x_start, idx):\n",
    "                element = [z_coord, y_coord, x_start+idx*150]\n",
    "                container.append(element)\n",
    "        y_temp = y_coord\n",
    "        z_temp = z_coord"
   ]
  },
  {
   "cell_type": "code",
   "execution_count": 62,
   "metadata": {},
   "outputs": [
    {
     "data": {
      "text/plain": [
       "[[1696, 2464, 3232],\n",
       " [1696, 2464, 3382],\n",
       " [1696, 2464, 3532],\n",
       " [1696, 2464, 3682],\n",
       " [1696, 2464, 3832],\n",
       " [1696, 2464, 3982],\n",
       " [1696, 2464, 4132],\n",
       " [1696, 2464, 4282],\n",
       " [1696, 2464, 4432],\n",
       " [1696, 2464, 4582],\n",
       " [1856, 2624, 3232],\n",
       " [1856, 2624, 3382],\n",
       " [1856, 2624, 3532],\n",
       " [1856, 2624, 3682],\n",
       " [1856, 2624, 3832],\n",
       " [1856, 2624, 3982],\n",
       " [1856, 2624, 4132],\n",
       " [1856, 2624, 4282],\n",
       " [1856, 2624, 4432],\n",
       " [1856, 2624, 4582],\n",
       " [2016, 2464, 3232],\n",
       " [2016, 2464, 3382],\n",
       " [2016, 2464, 3532],\n",
       " [2016, 2464, 3682],\n",
       " [2016, 2464, 3832],\n",
       " [2016, 2464, 3982],\n",
       " [2016, 2464, 4132],\n",
       " [2016, 2464, 4282],\n",
       " [2016, 2464, 4432],\n",
       " [2016, 2464, 4582],\n",
       " [2176, 2624, 3232],\n",
       " [2176, 2624, 3382],\n",
       " [2176, 2624, 3532],\n",
       " [2176, 2624, 3682],\n",
       " [2176, 2624, 3832],\n",
       " [2176, 2624, 3982],\n",
       " [2176, 2624, 4132],\n",
       " [2176, 2624, 4282],\n",
       " [2176, 2624, 4432],\n",
       " [2176, 2624, 4582],\n",
       " [2336, 2464, 3232],\n",
       " [2336, 2464, 3382],\n",
       " [2336, 2464, 3532],\n",
       " [2336, 2464, 3682],\n",
       " [2336, 2464, 3832],\n",
       " [2336, 2464, 3982],\n",
       " [2336, 2464, 4132],\n",
       " [2336, 2464, 4282],\n",
       " [2336, 2464, 4432],\n",
       " [2336, 2464, 4582],\n",
       " [2496, 2624, 3232],\n",
       " [2496, 2624, 3382],\n",
       " [2496, 2624, 3532],\n",
       " [2496, 2624, 3682],\n",
       " [2496, 2624, 3832],\n",
       " [2496, 2624, 3982],\n",
       " [2496, 2624, 4132],\n",
       " [2496, 2624, 4282],\n",
       " [2496, 2624, 4432],\n",
       " [2496, 2624, 4582],\n",
       " [2656, 2464, 3232],\n",
       " [2656, 2464, 3382],\n",
       " [2656, 2464, 3532],\n",
       " [2656, 2464, 3682],\n",
       " [2656, 2464, 3832],\n",
       " [2656, 2464, 3982],\n",
       " [2656, 2464, 4132],\n",
       " [2656, 2464, 4282],\n",
       " [2656, 2464, 4432],\n",
       " [2656, 2464, 4582],\n",
       " [2816, 2624, 3168],\n",
       " [2816, 2624, 3318],\n",
       " [2816, 2624, 3468],\n",
       " [2816, 2624, 3618],\n",
       " [2816, 2624, 3768],\n",
       " [2816, 2624, 3918],\n",
       " [2816, 2624, 4068],\n",
       " [2816, 2624, 4218],\n",
       " [2816, 2624, 4368],\n",
       " [2976, 2432, 3168],\n",
       " [2976, 2432, 3318],\n",
       " [2976, 2432, 3468],\n",
       " [2976, 2432, 3618],\n",
       " [2976, 2432, 3768],\n",
       " [2976, 2432, 3918],\n",
       " [2976, 2432, 4068],\n",
       " [2976, 2432, 4218],\n",
       " [2976, 2432, 4368],\n",
       " [3136, 2592, 3168],\n",
       " [3136, 2592, 3318],\n",
       " [3136, 2592, 3468],\n",
       " [3136, 2592, 3618],\n",
       " [3136, 2592, 3768],\n",
       " [3136, 2592, 3918],\n",
       " [3136, 2592, 4068],\n",
       " [3136, 2592, 4218],\n",
       " [3136, 2592, 4368],\n",
       " [3296, 2432, 3072],\n",
       " [3296, 2432, 3222],\n",
       " [3296, 2432, 3372],\n",
       " [3296, 2432, 3522],\n",
       " [3296, 2432, 3672],\n",
       " [3296, 2432, 3822],\n",
       " [3296, 2432, 3972],\n",
       " [3296, 2432, 4122],\n",
       " [3296, 2432, 4272],\n",
       " [3456, 2592, 3072],\n",
       " [3456, 2592, 3222],\n",
       " [3456, 2592, 3372],\n",
       " [3456, 2592, 3522],\n",
       " [3456, 2592, 3672],\n",
       " [3456, 2592, 3822],\n",
       " [3456, 2592, 3972],\n",
       " [3456, 2592, 4122],\n",
       " [3456, 2592, 4272],\n",
       " [3616, 2432, 3072],\n",
       " [3616, 2432, 3222],\n",
       " [3616, 2432, 3672],\n",
       " [3616, 2432, 3822],\n",
       " [3616, 2432, 3972],\n",
       " [3616, 2432, 4122],\n",
       " [3616, 2432, 4272],\n",
       " [3776, 2592, 2944],\n",
       " [3776, 2592, 3094],\n",
       " [3776, 2592, 3244],\n",
       " [3776, 2592, 3694],\n",
       " [3776, 2592, 3844],\n",
       " [3776, 2592, 3994],\n",
       " [3776, 2592, 4144],\n",
       " [3776, 2592, 4294],\n",
       " [3936, 2304, 2976],\n",
       " [3936, 2304, 3126],\n",
       " [3936, 2304, 3726],\n",
       " [3936, 2304, 3876],\n",
       " [3936, 2304, 4026],\n",
       " [3936, 2304, 4176],\n",
       " [4096, 2464, 2976],\n",
       " [4096, 2464, 3126],\n",
       " [4096, 2464, 3276],\n",
       " [4096, 2464, 3426],\n",
       " [4096, 2464, 3576],\n",
       " [4096, 2464, 3726],\n",
       " [4096, 2464, 3876],\n",
       " [4096, 2464, 4026],\n",
       " [4096, 2464, 4176],\n",
       " [4256, 2176, 2912],\n",
       " [4256, 2176, 3062],\n",
       " [4256, 2176, 3212],\n",
       " [4256, 2176, 3362],\n",
       " [4256, 2176, 3512],\n",
       " [4256, 2176, 3662],\n",
       " [4256, 2176, 3812],\n",
       " [4256, 2176, 3962],\n",
       " [4256, 2176, 4112],\n",
       " [4256, 2176, 4262],\n",
       " [4416, 2336, 2912],\n",
       " [4416, 2336, 3062],\n",
       " [4416, 2336, 3212],\n",
       " [4416, 2336, 3362],\n",
       " [4416, 2336, 3512],\n",
       " [4416, 2336, 3662],\n",
       " [4416, 2336, 3812],\n",
       " [4416, 2336, 3962],\n",
       " [4416, 2336, 4112],\n",
       " [4576, 2176, 2912],\n",
       " [4576, 2176, 3062],\n",
       " [4576, 2176, 3212],\n",
       " [4576, 2176, 3362],\n",
       " [4576, 2176, 3512],\n",
       " [4576, 2176, 3662],\n",
       " [4576, 2176, 3812],\n",
       " [4576, 2176, 3962],\n",
       " [4576, 2176, 4112],\n",
       " [4736, 2336, 2816],\n",
       " [4736, 2336, 2966],\n",
       " [4736, 2336, 3116],\n",
       " [4736, 2336, 3266],\n",
       " [4736, 2336, 3416],\n",
       " [4736, 2336, 3566],\n",
       " [4736, 2336, 3716],\n",
       " [4736, 2336, 3866],\n",
       " [4736, 2336, 4016],\n",
       " [4736, 2336, 4166],\n",
       " [4896, 2112, 2816],\n",
       " [4896, 2112, 2966],\n",
       " [4896, 2112, 3116],\n",
       " [4896, 2112, 3266],\n",
       " [4896, 2112, 3416],\n",
       " [4896, 2112, 3566],\n",
       " [4896, 2112, 3716],\n",
       " [4896, 2112, 3866],\n",
       " [4896, 2112, 4016],\n",
       " [5056, 2272, 2816],\n",
       " [5056, 2272, 2966],\n",
       " [5056, 2272, 3116],\n",
       " [5056, 2272, 3266],\n",
       " [5056, 2272, 3416],\n",
       " [5056, 2272, 3566],\n",
       " [5056, 2272, 3716],\n",
       " [5056, 2272, 3866],\n",
       " [5056, 2272, 4016],\n",
       " [5216, 2080, 2720],\n",
       " [5216, 2080, 2870],\n",
       " [5216, 2080, 3020],\n",
       " [5216, 2080, 3170],\n",
       " [5216, 2080, 3320],\n",
       " [5216, 2080, 3470],\n",
       " [5216, 2080, 3620],\n",
       " [5216, 2080, 3770],\n",
       " [5216, 2080, 3920],\n",
       " [5216, 2080, 4070],\n",
       " [5376, 2240, 2720],\n",
       " [5376, 2240, 2870],\n",
       " [5376, 2240, 3020],\n",
       " [5376, 2240, 3170],\n",
       " [5376, 2240, 3320],\n",
       " [5376, 2240, 3470],\n",
       " [5376, 2240, 3620],\n",
       " [5376, 2240, 3770],\n",
       " [5376, 2240, 3920],\n",
       " [5376, 2240, 4070],\n",
       " [5536, 2080, 2720],\n",
       " [5536, 2080, 2870],\n",
       " [5536, 2080, 3020],\n",
       " [5536, 2080, 3170],\n",
       " [5536, 2080, 3320],\n",
       " [5536, 2080, 3470],\n",
       " [5536, 2080, 3620],\n",
       " [5536, 2080, 3770],\n",
       " [5536, 2080, 3920],\n",
       " [5536, 2080, 4070],\n",
       " [5696, 2240, 2656],\n",
       " [5696, 2240, 2806],\n",
       " [5696, 2240, 2956],\n",
       " [5696, 2240, 3106],\n",
       " [5696, 2240, 3256],\n",
       " [5696, 2240, 3406],\n",
       " [5696, 2240, 3556],\n",
       " [5696, 2240, 3706],\n",
       " [5696, 2240, 3856],\n",
       " [5696, 2240, 4006],\n",
       " [5856, 1984, 2656],\n",
       " [5856, 1984, 2806],\n",
       " [5856, 1984, 2956],\n",
       " [5856, 1984, 3106],\n",
       " [5856, 1984, 3256],\n",
       " [5856, 1984, 3406],\n",
       " [5856, 1984, 3556],\n",
       " [5856, 1984, 3706],\n",
       " [5856, 1984, 3856],\n",
       " [6016, 2144, 2656],\n",
       " [6016, 2144, 2806],\n",
       " [6016, 2144, 2956],\n",
       " [6016, 2144, 3106],\n",
       " [6016, 2144, 3256],\n",
       " [6016, 2144, 3406],\n",
       " [6016, 2144, 3556],\n",
       " [6016, 2144, 3706],\n",
       " [6016, 2144, 3856],\n",
       " [6176, 1984, 2656],\n",
       " [6176, 1984, 2806],\n",
       " [6176, 1984, 2956],\n",
       " [6176, 1984, 3106],\n",
       " [6176, 1984, 3256],\n",
       " [6176, 1984, 3406],\n",
       " [6176, 1984, 3556],\n",
       " [6176, 1984, 3706],\n",
       " [6176, 1984, 3856],\n",
       " [6336, 2144, 2592],\n",
       " [6336, 2144, 2742],\n",
       " [6336, 2144, 2892],\n",
       " [6336, 2144, 3042],\n",
       " [6336, 2144, 3192],\n",
       " [6336, 2144, 3342],\n",
       " [6336, 2144, 3492],\n",
       " [6336, 2144, 3642],\n",
       " [6336, 2144, 3792],\n",
       " [6336, 2144, 3942],\n",
       " [6496, 1888, 2592],\n",
       " [6496, 1888, 2742],\n",
       " [6496, 1888, 2892],\n",
       " [6496, 1888, 3042],\n",
       " [6496, 1888, 3192],\n",
       " [6496, 1888, 3342],\n",
       " [6496, 1888, 3492],\n",
       " [6496, 1888, 3642],\n",
       " [6496, 1888, 3792],\n",
       " [6496, 1888, 3942],\n",
       " [6656, 2048, 2592],\n",
       " [6656, 2048, 2742],\n",
       " [6656, 2048, 2892],\n",
       " [6656, 2048, 3042],\n",
       " [6656, 2048, 3192],\n",
       " [6656, 2048, 3342],\n",
       " [6656, 2048, 3492],\n",
       " [6656, 2048, 3642],\n",
       " [6656, 2048, 3792],\n",
       " [6656, 2048, 3942],\n",
       " [6816, 1888, 2592],\n",
       " [6816, 1888, 2742],\n",
       " [6816, 1888, 2892],\n",
       " [6816, 1888, 3042],\n",
       " [6816, 1888, 3192],\n",
       " [6816, 1888, 3342],\n",
       " [6816, 1888, 3492],\n",
       " [6816, 1888, 3642],\n",
       " [6816, 1888, 3792],\n",
       " [6816, 1888, 3942],\n",
       " [6976, 2048, 2592],\n",
       " [6976, 2048, 2742],\n",
       " [6976, 2048, 2892],\n",
       " [6976, 2048, 3042],\n",
       " [6976, 2048, 3192],\n",
       " [6976, 2048, 3342],\n",
       " [6976, 2048, 3492],\n",
       " [6976, 2048, 3642],\n",
       " [6976, 2048, 3792],\n",
       " [6976, 2048, 3942],\n",
       " [7136, 1888, 2592],\n",
       " [7136, 1888, 2742],\n",
       " [7136, 1888, 2892],\n",
       " [7136, 1888, 3042],\n",
       " [7136, 1888, 3192],\n",
       " [7136, 1888, 3342],\n",
       " [7136, 1888, 3492],\n",
       " [7136, 1888, 3642],\n",
       " [7136, 1888, 3792],\n",
       " [7136, 1888, 3942],\n",
       " [7296, 2048, 2592],\n",
       " [7296, 2048, 2742],\n",
       " [7296, 2048, 2892],\n",
       " [7296, 2048, 3042],\n",
       " [7296, 2048, 3192],\n",
       " [7296, 2048, 3342],\n",
       " [7296, 2048, 3492],\n",
       " [7296, 2048, 3642],\n",
       " [7296, 2048, 3792],\n",
       " [7296, 2048, 3942],\n",
       " [7456, 1888, 2592],\n",
       " [7456, 1888, 2742],\n",
       " [7456, 1888, 2892],\n",
       " [7456, 1888, 3042],\n",
       " [7456, 1888, 3192],\n",
       " [7456, 1888, 3342],\n",
       " [7456, 1888, 3492],\n",
       " [7456, 1888, 3642],\n",
       " [7456, 1888, 3792],\n",
       " [7456, 1888, 3942],\n",
       " [7616, 2048, 2592],\n",
       " [7616, 2048, 2742],\n",
       " [7616, 2048, 2892],\n",
       " [7616, 2048, 3042],\n",
       " [7616, 2048, 3192],\n",
       " [7616, 2048, 3342],\n",
       " [7616, 2048, 3492],\n",
       " [7616, 2048, 3642],\n",
       " [7616, 2048, 3792],\n",
       " [7616, 2048, 3942]]"
      ]
     },
     "execution_count": 62,
     "metadata": {},
     "output_type": "execute_result"
    }
   ],
   "source": [
    "container"
   ]
  },
  {
   "cell_type": "code",
   "execution_count": 74,
   "metadata": {
    "collapsed": true
   },
   "outputs": [],
   "source": [
    "# Random sampling indice of container uniformly \n",
    "np.random.seed(21)\n",
    "\n",
    "indice = range(len(container))\n",
    "random_indice = np.random.choice(indice, 8, replace=False)"
   ]
  },
  {
   "cell_type": "code",
   "execution_count": 75,
   "metadata": {},
   "outputs": [
    {
     "data": {
      "text/plain": [
       "array([234, 232, 173, 157, 299, 198, 266, 333])"
      ]
     },
     "execution_count": 75,
     "metadata": {},
     "output_type": "execute_result"
    }
   ],
   "source": [
    "random_indice"
   ]
  },
  {
   "cell_type": "code",
   "execution_count": 90,
   "metadata": {
    "scrolled": true
   },
   "outputs": [
    {
     "name": "stdout",
     "output_type": "stream",
     "text": [
      "('stacked_data_gry.shape', (1200, 150, 150))\n",
      "('stacked_data_gt.shape', (1200, 150, 150))\n"
     ]
    }
   ],
   "source": [
    "train_data_path = \"/data/git/fira-capstone-project/save/train_data\"\n",
    "gry_container = []\n",
    "gt_container = []\n",
    "\n",
    "\n",
    "for val in random_indice:\n",
    "    # Save didn't concatenate data\n",
    "    path = train_data_path + '/' + 'not_concate_' + str(val)\n",
    "    \n",
    "    z, y, x = container[val]\n",
    "    data_gry = grayscale[z:z+150, y:y+150, x:x+150]\n",
    "    data_gt = groundtruth[z:z+150, y:y+150, x:x+150]\n",
    "    if 0 in data_gt:\n",
    "        print(\"%d contain 0, gry\", val)\n",
    "    \n",
    "    hdf_write(path+\"_gry\", \"gry\", data_gry)\n",
    "    hdf_write(path+\"_gt\", \"gt\", data_gt)\n",
    "    \n",
    "    \n",
    "    # Save concatenate data\n",
    "    gry_container.append(data_gry)\n",
    "    gt_container.append(data_gt)\n",
    "    \n",
    "path = train_data_path + '/' + \"concate\"\n",
    "stacked_data_gry = np.concatenate(gry_container, axis=0)\n",
    "stacked_data_gt = np.concatenate(gt_container, axis=0)\n",
    "\n",
    "hdf_write(path+\"_gry\", \"gry\", stacked_data_gry)\n",
    "hdf_write(path+\"_gt\", \"gt\", stacked_data_gt)\n",
    "print(\"stacked_data_gry.shape\", stacked_data_gry.shape)\n",
    "print(\"stacked_data_gt.shape\", stacked_data_gt.shape)\n",
    "    \n",
    "    \n",
    "    \n",
    "# def hdf_write(path, keyword, data):\n",
    "#     with h5py.File(path, 'w') as outfile:\n",
    "#         dset = dset = outfile.create_dataset(keyword, data=data, chunks=True)"
   ]
  },
  {
   "cell_type": "code",
   "execution_count": 91,
   "metadata": {},
   "outputs": [
    {
     "name": "stdout",
     "output_type": "stream",
     "text": [
      "\n",
      "(1200, 150, 150)\n",
      "[[152 144 143 ...,  66  81  76]\n",
      " [158 150 147 ...,  80  81  95]\n",
      " [166 160 153 ...,  83  87  91]\n",
      " ..., \n",
      " [180 170 156 ..., 178 187 184]\n",
      " [170 156 150 ..., 169 177 181]\n",
      " [175 155 144 ..., 167 172 182]]\n",
      "[[376495 376495 376495 ...,  82089  82089  82089]\n",
      " [376495 376495 376495 ...,  82089  82089  82089]\n",
      " [376495 376495 376495 ...,  82089  82089  82089]\n",
      " ..., \n",
      " [384054 384054 384054 ..., 457537 457537 457537]\n",
      " [384054 384054 384054 ..., 457537 457537 457537]\n",
      " [384054 384054 384054 ..., 457537 457537 457537]]\n",
      "\n",
      "(150, 150, 150)\n",
      "[[166 164 164 ..., 106 102  88]\n",
      " [169 159 155 ..., 104 112  98]\n",
      " [173 159 156 ...,  90  97  93]\n",
      " ..., \n",
      " [121 119 126 ...,  89  74  75]\n",
      " [118 127 133 ...,  81  79  75]\n",
      " [126 138 145 ...,  85  83  87]]\n",
      "[[170754 170754 170754 ..., 226040 226040 226040]\n",
      " [170754 170754 170754 ..., 226040 226040 226040]\n",
      " [170754 170754 170754 ..., 226040 226040 226040]\n",
      " ..., \n",
      " [199493 199493 199493 ...,  16647  16647  16647]\n",
      " [199493 199493 199493 ...,  16647  16647  16647]\n",
      " [199493 199493 199493 ...,  16647  16647  16647]]\n"
     ]
    }
   ],
   "source": [
    "concat_gry = hdf_read(train_data_path+\"/concate_gry\", \"gry\")\n",
    "print(\"\")\n",
    "print(concat_gry.shape)\n",
    "print(concat_gry[0])\n",
    "\n",
    "concat_gt = hdf_read(train_data_path+\"/concate_gt\", \"gt\")\n",
    "print(concat_gt[0])\n",
    "\n",
    "concat_gry = hdf_read(train_data_path+\"/not_concate_157_gry\", \"gry\")\n",
    "print(\"\")\n",
    "print(concat_gry.shape)\n",
    "print(concat_gry[0])\n",
    "\n",
    "concat_gt = hdf_read(train_data_path+\"/not_concate_157_gt\", \"gt\")\n",
    "print(concat_gt[0])\n",
    "\n",
    "\n",
    "# def hdf_read(path, keyword):\n",
    "#     f = h5py.File(path, 'r')\n",
    "#     return f[keyword]"
   ]
  },
  {
   "cell_type": "code",
   "execution_count": 77,
   "metadata": {},
   "outputs": [
    {
     "name": "stdout",
     "output_type": "stream",
     "text": [
      "(3232, 4768)\n"
     ]
    },
    {
     "data": {
      "text/plain": [
       "4732"
      ]
     },
     "execution_count": 77,
     "metadata": {},
     "output_type": "execute_result"
    }
   ],
   "source": [
    "a = 101*32;\n",
    "b = 149*32\n",
    "print(a,b)\n",
    "(b-a)/150 \n",
    "\n",
    "3232 + 150*10"
   ]
  },
  {
   "cell_type": "code",
   "execution_count": 78,
   "metadata": {},
   "outputs": [
    {
     "data": {
      "text/plain": [
       "array([[[ 0.42123128,  0.21229574,  0.77958652],\n",
       "        [ 0.02455713,  0.51519744,  0.54463426],\n",
       "        [ 0.90628012,  0.98263181,  0.04015903]],\n",
       "\n",
       "       [[ 0.23392525,  0.08090107,  0.67977724],\n",
       "        [ 0.48107998,  0.51143972,  0.54447182],\n",
       "        [ 0.59080192,  0.90105725,  0.7036275 ]],\n",
       "\n",
       "       [[ 0.41469298,  0.20652713,  0.44748033],\n",
       "        [ 0.08322816,  0.57960485,  0.60508785],\n",
       "        [ 0.99984484,  0.53138267,  0.14255688]]])"
      ]
     },
     "execution_count": 78,
     "metadata": {},
     "output_type": "execute_result"
    }
   ],
   "source": [
    "a = np.random.random((3,3,3))\n",
    "b = np.random.random((3,3,3))\n",
    "c = np.random.random((3,3,3))\n",
    "a"
   ]
  },
  {
   "cell_type": "code",
   "execution_count": 79,
   "metadata": {},
   "outputs": [
    {
     "data": {
      "text/plain": [
       "array([[[ 0.42123128,  0.21229574,  0.77958652],\n",
       "        [ 0.02455713,  0.51519744,  0.54463426],\n",
       "        [ 0.90628012,  0.98263181,  0.04015903]],\n",
       "\n",
       "       [[ 0.23392525,  0.08090107,  0.67977724],\n",
       "        [ 0.48107998,  0.51143972,  0.54447182],\n",
       "        [ 0.59080192,  0.90105725,  0.7036275 ]],\n",
       "\n",
       "       [[ 0.41469298,  0.20652713,  0.44748033],\n",
       "        [ 0.08322816,  0.57960485,  0.60508785],\n",
       "        [ 0.99984484,  0.53138267,  0.14255688]],\n",
       "\n",
       "       [[ 0.58364309,  0.33118808,  0.41253686],\n",
       "        [ 0.73780985,  0.05107151,  0.5711893 ],\n",
       "        [ 0.91934093,  0.59416357,  0.34722535]],\n",
       "\n",
       "       [[ 0.67615762,  0.5027751 ,  0.15317089],\n",
       "        [ 0.31068457,  0.58597339,  0.97656934],\n",
       "        [ 0.76189765,  0.72431148,  0.36783041]],\n",
       "\n",
       "       [[ 0.96235767,  0.15840519,  0.40078833],\n",
       "        [ 0.19212347,  0.97462979,  0.80901784],\n",
       "        [ 0.126032  ,  0.87105251,  0.43195392]],\n",
       "\n",
       "       [[ 0.0568426 ,  0.63352532,  0.80391961],\n",
       "        [ 0.59581046,  0.21778077,  0.33270714],\n",
       "        [ 0.04455823,  0.57087119,  0.68468547]],\n",
       "\n",
       "       [[ 0.32012203,  0.84812454,  0.13552083],\n",
       "        [ 0.29273613,  0.07675531,  0.07782466],\n",
       "        [ 0.4484414 ,  0.42910598,  0.75863893]],\n",
       "\n",
       "       [[ 0.53796345,  0.39895015,  0.71127434],\n",
       "        [ 0.18699086,  0.4384823 ,  0.8112099 ],\n",
       "        [ 0.83304696,  0.40524283,  0.68118689]]])"
      ]
     },
     "execution_count": 79,
     "metadata": {},
     "output_type": "execute_result"
    }
   ],
   "source": [
    "np.concatenate((a,b,c), axis=0)"
   ]
  },
  {
   "cell_type": "code",
   "execution_count": null,
   "metadata": {
    "collapsed": true
   },
   "outputs": [],
   "source": []
  }
 ],
 "metadata": {
  "kernelspec": {
   "display_name": "flyem",
   "language": "python",
   "name": "flyem"
  },
  "language_info": {
   "codemirror_mode": {
    "name": "ipython",
    "version": 2
   },
   "file_extension": ".py",
   "mimetype": "text/x-python",
   "name": "python",
   "nbconvert_exporter": "python",
   "pygments_lexer": "ipython2",
   "version": "2.7.12"
  }
 },
 "nbformat": 4,
 "nbformat_minor": 2
}
