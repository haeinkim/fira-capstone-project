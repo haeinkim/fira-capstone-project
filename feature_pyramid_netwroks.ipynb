{
 "cells": [
  {
   "cell_type": "code",
   "execution_count": null,
   "metadata": {},
   "outputs": [],
   "source": [
    "from keras.applications import resnet50"
   ]
  },
  {
   "cell_type": "markdown",
   "metadata": {},
   "source": [
    "The bottom-up pathway is the feed-forward computation of the backbone ConvNet, which computes a feature hierarchy consisting of feature maps at several scales with a scaling step of 2.  There are often many layers producing output maps of the same size and we say these layers are in the same network *stage*.  For our feature pyramid, we define one pyramid level for each stage.  We choose the output of the last layer of each stage as our reference set of feature maps, which we will enrich to create our pyramid.  This choice is natural since the deepest layer of each stage should have the strongest features."
   ]
  },
  {
   "cell_type": "code",
   "execution_count": null,
   "metadata": {},
   "outputs": [],
   "source": [
    "def bottom_up_pathway:\n",
    "    \"\"\"\n",
    "    The bottom-up pathway is the feed-forward computation of the \n",
    "    backbone ConvNet, which computes a feature hierarchy consisting of \n",
    "    feature maps at several scales with a scaling step of 2. \n",
    "    \n",
    "    Arguments:\n",
    "    C2 --\n",
    "    C3 --\n",
    "    C4 --\n",
    "    C5 --\n",
    "    \n",
    "    Returns:\n",
    "    \"\"\"\n",
    "    # Extracts the outputs of the top 5 layers:\n",
    "    layer_outputs = [layer.output for layer in model.layers[1:6]]\n",
    "    "
   ]
  },
  {
   "cell_type": "code",
   "execution_count": null,
   "metadata": {},
   "outputs": [],
   "source": [
    "def top_down_building_block(prev_output, output):\n",
    "    \"\"\"Nearest neighbor upsampling\n",
    "    e.g. (C5 -> 2X up) + (C4 -> 1x1 CONV)\n",
    "    \"\"\""
   ]
  },
  {
   "cell_type": "code",
   "execution_count": null,
   "metadata": {},
   "outputs": [],
   "source": [
    "def top_down_pathway:\n",
    "    \"\"\"\n",
    "    P2:\n",
    "    P3:\n",
    "    p4:\n",
    "    p5:\n",
    "    \"\"\""
   ]
  }
 ],
 "metadata": {
  "kernelspec": {
   "display_name": "Python 2",
   "language": "python",
   "name": "python2"
  },
  "language_info": {
   "codemirror_mode": {
    "name": "ipython",
    "version": 2
   },
   "file_extension": ".py",
   "mimetype": "text/x-python",
   "name": "python",
   "nbconvert_exporter": "python",
   "pygments_lexer": "ipython2",
   "version": "2.7.12"
  }
 },
 "nbformat": 4,
 "nbformat_minor": 2
}
