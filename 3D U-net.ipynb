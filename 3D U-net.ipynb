{
 "cells": [
  {
   "cell_type": "code",
   "execution_count": 2,
   "metadata": {},
   "outputs": [
    {
     "name": "stderr",
     "output_type": "stream",
     "text": [
      "Using TensorFlow backend.\n"
     ]
    }
   ],
   "source": [
    "import numpy as np\n",
    "import h5py\n",
    "from keras import layers\n",
    "from keras.layers import Input, Add, Dense, Activation, ZeroPadding3D, BatchNormalization, Flatten, Conv3D, MaxPooling3D\n",
    "from keras.models import Model, load_model\n",
    "from keras.preprocessing import image\n",
    "from keras.utils import layer_utils\n",
    "from keras.utils.data_utils import get_file\n",
    "from keras.applications.imagenet_utils import preprocess_input\n",
    "import pydot\n",
    "from IPython.display import SVG\n",
    "from keras.utils.vis_utils import model_to_dot\n",
    "from keras.utils import plot_model\n",
    "from keras.initializers import glorot_uniform\n",
    "import scipy.misc\n",
    "from matplotlib.pyplot import imshow\n",
    "%matplotlib inline\n",
    "\n",
    "import keras.backend as K\n",
    "K.set_image_data_format('channels_last')\n",
    "K.set_learning_phase(1)"
   ]
  },
  {
   "cell_type": "code",
   "execution_count": null,
   "metadata": {
    "collapsed": true
   },
   "outputs": [],
   "source": [
    "def UNet3D(input_shape = (32, 32, 32, 1)):\n",
    "    \"\"\"\n",
    "    Implementaton of the 3D U-Net the following architecture:\n",
    "    Input -> CONV3D -> CONV3D -> CONV3D* -> MAXPOOL -> CONV3D -> \n",
    "    CONV3D -> CONV3D -> CONV3D -> (DECONV3D + CONV3D*) -> CONV3D -> \n",
    "    CONV3D -> CONV3D -> CONV3D -> CONV3D -> Output\n",
    "    \n",
    "    Arguments:\n",
    "    input_shape -- shape of the voxel images of the dataset\n",
    "    \n",
    "    Returns:\n",
    "    model -- a Model() instance in Keras\n",
    "    \"\"\"\n",
    "    \n",
    "    X_input = Input(input_shape)\n",
    "    \n",
    "    X = ZeroPadding3D((1, 1))(X_input)\n",
    "    \n",
    "    X = Conv3D(128, (3, 3, 3), strides = (1, 1, 1), name = 'conv1', padding = 'same', \n",
    "               kernel_initializer = glorot_uniform(seed=0))(X)\n",
    "    X = BatchNormalization(axis = -1, name = 'bn1')(X)\n",
    "    X = Activation('relu')(X)\n",
    "    X = Conv3D(128, (3, 3, 3), strides = (1, 1, 1), name = 'conv2', padding = 'same',\n",
    "               kernel_initializer = glorot_uniform(seed=0))(X)\n",
    "    X = BatchNormalization(axis = -1, name = 'bn2')(X)    \n",
    "    X = Activation('relu')(X)\n",
    "    X = Conv3D(128, (3, 3, 3), strides = (1, 1, 1), name = 'conv3', padding = 'same',\n",
    "               kernel_initializer = glorot_uniform(seed=0))(X)\n",
    "    X = BatchNormalization(axis = -1, name = 'bn3')(X)\n",
    "    X = Activation('relu')(X)\n",
    "    \n",
    "    X_down = X\n",
    "    \n",
    "    X_down = MaxPooling3D((2, 2, 2), strides=(2, 2, 2))(X_down)\n",
    "    X_down = Conv3D(128, (3, 3, 3), strides = (1, 1, 1), name = 'conv4', padding = 'same',\n",
    "                    kernel_initializer = glorot_uniform(seed=0))(X_down)\n",
    "    X = BatchNormalization(axis = -1, name = 'bn4')(X)    \n",
    "    X_down = Activation('relu')(X_down)\n",
    "    X_down = Conv3D(128, (3, 3, 3), strides = (1, 1, 1), name = 'conv5', padding = 'same',\n",
    "                    kernel_initializer = glorot_uniform(seed=0))(X_down)\n",
    "    X = BatchNormalization(axis = -1, name = 'bn5')(X)\n",
    "    X_down = Activation('relu')(X_down)\n",
    "    X_down = Conv3D(128, (3, 3, 3), strides = (1, 1, 1), name = 'conv6', padding = 'same',\n",
    "                    kernel_initializer = glorot_uniform(seed=0))(X_down)\n",
    "    X = BatchNormalization(axis = -1, name = 'bn6')(X)\n",
    "    X_down = Activation('relu')(X_down)\n",
    "    X_down = Conv3D(128, (3, 3, 3), strides = (1, 1, 1), name = 'conv7', padding = 'same',\n",
    "                    kernel_initializer = glorot_uniform(seed=0))(X_down)\n",
    "    X = BatchNormalization(axis = -1, name = 'bn7')(X)\n",
    "    X_down = Activation('relu')(X_down)\n",
    "    \n",
    "    X_down = UpSmpling3D((2, 2, 2))(X_down)\n",
    "    \n",
    "    \n",
    "    X = Add()([X, X_down])\n",
    "    \n",
    "    X = Conv3D(256, (3, 3, 3), strides = (1, 1, 1), name = 'conv8', padding = 'same',\n",
    "               kernel_initializer = glorot_uniform(seed=0))(X)\n",
    "    X = BatchNormalization(axis = -1, name = 'bn8')(X)\n",
    "    X = Activation('relu')(X)\n",
    "\n",
    "    X = Conv3D(128, (3, 3, 3), strides = (1, 1, 1), name = 'conv9', padding = 'same',\n",
    "               kernel_initializer = glorot_uniform(seed=0))(X)\n",
    "    X = BatchNormalization(axis = -1, name = 'bn9')(X)\n",
    "    X = Activation('relu')(X)\n",
    "\n",
    "    X = Conv3D(128, (3, 3, 3), strides = (1, 1, 1), name = 'conv10', padding = 'same',\n",
    "               kernel_initializer = glorot_uniform(seed=0))(X)\n",
    "    X = BatchNormalization(axis = -1, name = 'bn10')(X)\n",
    "    X = Activation('relu')(X)\n",
    "    \n",
    "    X = Conv3D(128, (3, 3, 3), strides = (1, 1, 1), name = 'conv11', padding = 'same',\n",
    "               kernel_initializer = glorot_uniform(seed=0))(X)\n",
    "    X = BatchNormalization(axis = -1, name = 'bn11')(X)\n",
    "    X = Activation('relu')(X)\n",
    "\n",
    "    X = Conv3D(1, (1, 1, 1), strides = (1, 1, 1), name = 'conv12', padding = 'same',\n",
    "               kernel_initializer = glorot_uniform(seed=0))(X)\n",
    "    X = BatchNormalization(axis = -1, name = 'bn12')(X)\n",
    "    X = Activation('sigmoid')(X)\n",
    "    \n",
    "    model = Model(inputs=[X_input], outputs=[X])\n",
    "    \n",
    "    model.compile()\n",
    "        \n",
    "    return model\n",
    "        "
   ]
  },
  {
   "cell_type": "markdown",
   "metadata": {},
   "source": [
    "# Objective functions"
   ]
  },
  {
   "cell_type": "code",
   "execution_count": 3,
   "metadata": {},
   "outputs": [],
   "source": [
    "path = '/media/haein/DATA/FlyEM/fib_cube.hdf5'\n",
    "\n",
    "h = h5py.File(path, 'r')\n"
   ]
  },
  {
   "cell_type": "code",
   "execution_count": null,
   "metadata": {
    "collapsed": true
   },
   "outputs": [],
   "source": [
    "def dice_loss(y_true, y_pred):\n",
    "    smooth = 1.\n",
    "    y_true_f = K.flatten(y_true)\n",
    "    y_pred_f = K.flatten(y_pred)\n",
    "    intersection = y_true_f * y_pred_f\n",
    "    score = (2. * K.sum(intersection) + smooth) / (K.sum(y_true_f) + K.sum(y_pred_f) + smooth)\n",
    "return 1. - score\n"
   ]
  },
  {
   "cell_type": "code",
   "execution_count": 7,
   "metadata": {
    "collapsed": true
   },
   "outputs": [],
   "source": [
    "def get_masks(y_pred):\n",
    "    classes = np.unique(y_pred)\n",
    "    masks = []\n",
    "    for i in classes:\n",
    "        masks.append(np.where(y_pred==i, 1, 0))\n",
    "        \n",
    "    return masks\n",
    "        "
   ]
  },
  {
   "cell_type": "code",
   "execution_count": 4,
   "metadata": {
    "collapsed": true
   },
   "outputs": [],
   "source": [
    "arr = h['groundtruth'][0]"
   ]
  },
  {
   "cell_type": "code",
   "execution_count": 10,
   "metadata": {},
   "outputs": [
    {
     "data": {
      "text/plain": [
       "5"
      ]
     },
     "execution_count": 10,
     "metadata": {},
     "output_type": "execute_result"
    }
   ],
   "source": [
    "masks = get_masks(arr)\n",
    "len(masks)"
   ]
  },
  {
   "cell_type": "code",
   "execution_count": 5,
   "metadata": {},
   "outputs": [
    {
     "data": {
      "text/plain": [
       "array([  96, 7131, 7463, 8053, 9423], dtype=uint64)"
      ]
     },
     "execution_count": 5,
     "metadata": {},
     "output_type": "execute_result"
    }
   ],
   "source": [
    "uniq = np.unique(arr)\n",
    "uniq"
   ]
  },
  {
   "cell_type": "code",
   "execution_count": 37,
   "metadata": {},
   "outputs": [
    {
     "data": {
      "text/plain": [
       "(32, 32, 32)"
      ]
     },
     "execution_count": 37,
     "metadata": {},
     "output_type": "execute_result"
    }
   ],
   "source": [
    "mask = []\n",
    "\n",
    "for i in uniq:\n",
    "    mask.append(np.where(arr == i, 1, 0))\n",
    "    \n",
    "mask[1].shape"
   ]
  },
  {
   "cell_type": "code",
   "execution_count": 28,
   "metadata": {
    "collapsed": true
   },
   "outputs": [],
   "source": [
    "num_clusters = len(uniq)\n",
    "num_elements = np.where(arr == 96, 1, 0).sum()"
   ]
  },
  {
   "cell_type": "code",
   "execution_count": 29,
   "metadata": {},
   "outputs": [
    {
     "data": {
      "text/plain": [
       "3974"
      ]
     },
     "execution_count": 29,
     "metadata": {},
     "output_type": "execute_result"
    }
   ],
   "source": [
    "num_elements.sum()"
   ]
  },
  {
   "cell_type": "code",
   "execution_count": 31,
   "metadata": {
    "collapsed": true
   },
   "outputs": [],
   "source": [
    "z, y, x = np.where(arr==96)"
   ]
  },
  {
   "cell_type": "code",
   "execution_count": 33,
   "metadata": {},
   "outputs": [
    {
     "data": {
      "text/plain": [
       "(3974, 3974, 3974)"
      ]
     },
     "execution_count": 33,
     "metadata": {},
     "output_type": "execute_result"
    }
   ],
   "source": [
    "len(z), len(y), len(x)"
   ]
  },
  {
   "cell_type": "code",
   "execution_count": null,
   "metadata": {
    "collapsed": true
   },
   "outputs": [],
   "source": [
    "for i in len(z):\n",
    "    "
   ]
  },
  {
   "cell_type": "code",
   "execution_count": 17,
   "metadata": {},
   "outputs": [
    {
     "data": {
      "text/plain": [
       "9423"
      ]
     },
     "execution_count": 17,
     "metadata": {},
     "output_type": "execute_result"
    }
   ],
   "source": [
    "sample = arr[:,:, 0]\n",
    "sample.max()"
   ]
  },
  {
   "cell_type": "code",
   "execution_count": null,
   "metadata": {
    "collapsed": true
   },
   "outputs": [],
   "source": []
  }
 ],
 "metadata": {
  "kernelspec": {
   "display_name": "Python 2",
   "language": "python",
   "name": "python2"
  },
  "language_info": {
   "codemirror_mode": {
    "name": "ipython",
    "version": 2
   },
   "file_extension": ".py",
   "mimetype": "text/x-python",
   "name": "python",
   "nbconvert_exporter": "python",
   "pygments_lexer": "ipython2",
   "version": "2.7.12"
  }
 },
 "nbformat": 4,
 "nbformat_minor": 2
}
