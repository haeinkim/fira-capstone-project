{
 "cells": [
  {
   "cell_type": "code",
   "execution_count": 78,
   "metadata": {},
   "outputs": [],
   "source": [
    "import json\n",
    "import numpy as np\n",
    "import pandas as pd\n",
    "from mpl_toolkits.mplot3d import Axes3D\n",
    "import matplotlib.pyplot as plt\n",
    "\n",
    "from diced import DicedStore\n",
    "store = DicedStore(\"gs://flyem-public-connectome\")\n"
   ]
  },
  {
   "cell_type": "code",
   "execution_count": 79,
   "metadata": {},
   "outputs": [],
   "source": [
    "repo = store.open_repo(\"medulla7column\")\n",
    "grayscale = repo.get_array(\"grayscale\")\n",
    "groundtruth = repo.get_array(\"groundtruth\")\n"
   ]
  },
  {
   "cell_type": "code",
   "execution_count": 80,
   "metadata": {},
   "outputs": [],
   "source": [
    "def get_extent(volume_coord, volume_extent):\n",
    "    z_extent = slice(volume_coord[0], volume_coord[0] + volume_extent[0])\n",
    "    y_extent = slice(volume_coord[1], volume_coord[1] + volume_extent[1])\n",
    "    x_extent = slice(volume_coord[2], volume_coord[2] + volume_extent[2])\n",
    "    return (z_extent, y_extent, x_extent)\n"
   ]
  },
  {
   "cell_type": "code",
   "execution_count": 81,
   "metadata": {},
   "outputs": [],
   "source": [
    "volume_coord = [3490, 2103, 3253]\n",
    "volume_extent = [520, 520, 520]\n",
    "slc = get_extent(volume_coord, volume_extent)\n"
   ]
  },
  {
   "cell_type": "code",
   "execution_count": 82,
   "metadata": {},
   "outputs": [],
   "source": [
    "label = groundtruth[slc]\n",
    "image = grayscale[slc]\n"
   ]
  },
  {
   "cell_type": "code",
   "execution_count": 83,
   "metadata": {},
   "outputs": [],
   "source": [
    "lom_radius = (16, 16, 16)\n",
    "min_size = 10000\n",
    "thresholds = [0.025,0.05,0.075,0.1,0.2,0.3,0.4,0.5,0.6,0.7,0.8,0.9 ]\n"
   ]
  },
  {
   "cell_type": "code",
   "execution_count": 70,
   "metadata": {
    "collapsed": true
   },
   "outputs": [
    {
     "data": {
      "text/plain": [
       "array([[[1, 3, 4, 0, 0, 0, 1],\n",
       "        [2, 4, 1, 1, 0, 0, 2],\n",
       "        [4, 1, 1, 4, 4, 4, 2],\n",
       "        [4, 1, 3, 2, 4, 0, 4],\n",
       "        [4, 4, 1, 1, 1, 3, 0],\n",
       "        [2, 1, 1, 4, 1, 2, 1],\n",
       "        [0, 3, 3, 0, 0, 2, 1]],\n",
       "\n",
       "       [[3, 2, 4, 2, 2, 3, 2],\n",
       "        [3, 0, 3, 4, 4, 2, 0],\n",
       "        [4, 4, 3, 4, 4, 3, 2],\n",
       "        [3, 4, 0, 1, 1, 2, 0],\n",
       "        [3, 3, 1, 2, 0, 1, 4],\n",
       "        [0, 0, 0, 1, 4, 0, 3],\n",
       "        [0, 4, 0, 2, 1, 3, 0]],\n",
       "\n",
       "       [[0, 0, 4, 0, 0, 0, 3],\n",
       "        [3, 0, 4, 0, 0, 4, 3],\n",
       "        [3, 4, 2, 1, 3, 1, 0],\n",
       "        [0, 3, 4, 1, 0, 0, 3],\n",
       "        [4, 0, 3, 4, 3, 4, 4],\n",
       "        [1, 4, 2, 3, 1, 0, 0],\n",
       "        [1, 2, 4, 2, 3, 1, 3]],\n",
       "\n",
       "       [[2, 4, 3, 3, 1, 3, 3],\n",
       "        [4, 0, 1, 1, 4, 1, 2],\n",
       "        [2, 4, 2, 2, 2, 3, 3],\n",
       "        [1, 3, 2, 4, 0, 4, 1],\n",
       "        [4, 4, 4, 3, 0, 1, 4],\n",
       "        [0, 4, 0, 3, 3, 3, 3],\n",
       "        [2, 2, 4, 3, 1, 1, 3]],\n",
       "\n",
       "       [[1, 3, 3, 0, 3, 3, 0],\n",
       "        [4, 4, 2, 3, 1, 2, 4],\n",
       "        [3, 4, 4, 3, 4, 2, 2],\n",
       "        [0, 0, 1, 0, 3, 0, 4],\n",
       "        [1, 0, 1, 1, 1, 2, 3],\n",
       "        [4, 1, 1, 4, 0, 2, 1],\n",
       "        [2, 0, 0, 0, 2, 0, 3]],\n",
       "\n",
       "       [[4, 0, 4, 0, 3, 1, 0],\n",
       "        [1, 2, 1, 2, 4, 0, 4],\n",
       "        [2, 1, 4, 3, 2, 0, 0],\n",
       "        [1, 3, 0, 0, 0, 3, 3],\n",
       "        [1, 2, 1, 1, 0, 0, 2],\n",
       "        [1, 0, 0, 2, 2, 2, 2],\n",
       "        [2, 3, 3, 2, 1, 4, 0]],\n",
       "\n",
       "       [[3, 0, 1, 0, 3, 1, 1],\n",
       "        [3, 3, 1, 1, 4, 0, 0],\n",
       "        [2, 0, 4, 2, 0, 0, 3],\n",
       "        [0, 4, 3, 3, 2, 4, 3],\n",
       "        [0, 2, 1, 3, 0, 2, 2],\n",
       "        [4, 2, 0, 4, 4, 4, 2],\n",
       "        [2, 1, 3, 0, 1, 2, 0]]])"
      ]
     },
     "execution_count": 70,
     "metadata": {},
     "output_type": "execute_result"
    }
   ],
   "source": [
    "# label = np.random.randint(5, size=(7, 7, 7))\n",
    "# lom_radius = (2, 2, 2)\n",
    "# min_size = 1\n",
    "# thresholds = [0.025,0.05,0.075,0.1,0.2,0.3,0.4,0.5,0.6,0.7,0.8,0.9 ]\n",
    "# label"
   ]
  },
  {
   "cell_type": "markdown",
   "metadata": {},
   "source": [
    "# compute_partitions"
   ]
  },
  {
   "cell_type": "code",
   "execution_count": 84,
   "metadata": {},
   "outputs": [],
   "source": [
    "shape = label.shape # [520, 520, 520]\n",
    "lom_radius = [int(x) for x in lom_radius] # [16, 16, 16]\n",
    "ids, sizes = np.unique(label, return_counts=True) # ids, 332\n",
    "\n",
    "def _clear_dust(label, ids, sizes):\n",
    "    small = ids[sizes < min_size]\n",
    "    small_mask = np.in1d(label.flat, small).reshape(label.shape)\n",
    "    label[small_mask] = 0\n",
    "    return label\n",
    "\n",
    "clean_label = _clear_dust(label, ids, sizes)\n",
    "lom_radius = np.array(lom_radius) # array([16, 16, 16])\n",
    "lom_radius_zyx = lom_radius[::-1] # array([16, 16, 16])\n",
    "lom_diam_zyx = 2 * lom_radius_zyx + 1 # array([33, 33, 33])\n",
    "\n",
    "def _sel(i):\n",
    "    if i == 0:\n",
    "        return slice(None)\n",
    "    else:\n",
    "        return slice(i, -i)\n",
    "    \n",
    "valid_sel = [_sel(x) for x in lom_radius_zyx] # [slice(16, -16, None), slice(16, -16, None), slice(16, -16, None)]\n",
    "output = np.zeros(clean_label[valid_sel].shape, dtype=np.uint8) # shape = [488, 488, 488]\n",
    "corner = lom_radius\n",
    "\n",
    "labels = set(np.unique(clean_label))\n",
    "\n",
    "fov_volume = np.prod(lom_diam_zyx) # 33 ** 3\n",
    "\n",
    "def _summed_volume_table(val):\n",
    "    val = val.astype(np.int32)\n",
    "    svt = val.cumsum(axis=0).cumsum(axis=1).cumsum(axis=2)\n",
    "    return np.pad(svt, [[1, 0], [1, 0], [1, 0]], mode='constant')\n",
    "\n",
    "def _query_summed_volume(svt, diam):\n",
    "    return (svt[diam[0]:, diam[1]:, diam[2]:] - svt[diam[0]:, diam[1]:, :-diam[2]] - \n",
    "            svt[diam[0]:, :-diam[1], diam[2]:] - svt[:-diam[0], diam[1]:, diam[2]:] +\n",
    "            svt[:-diam[0], :-diam[1], diam[2]:] + svt[:-diam[0], diam[1]:, :-diam[2]]\n",
    "            + svt[diam[0]:, :-diam[1], :-diam[2]] - svt[:-diam[0], :-diam[1], :-diam[2]])\n",
    "\n",
    "# for l in labels:\n",
    "#     if l == 0:\n",
    "#         continue\n",
    "    \n",
    "#     object_mask = (clean_label == l)\n",
    "    \n",
    "#     svt = _summed_volume_table(object_mask) # shape = [521, 521, 521]\n",
    "#     active_fraction = _query_summed_volume(svt, lom_diam_zyx) / float(fov_volume)\n",
    "    \n",
    "#     print(active_fraction)\n",
    "    \n",
    "#     object_mask = object_mask[valid_sel]\n",
    "\n",
    "#     for i, th in enumerate(thresholds):\n",
    "#         output[object_mask & (active_fraction < th) & (output == 0)] = i + 1\n",
    "#     output[object_mask & (active_fraction >= thresholds[-1]) &\n",
    "#            (output == 0)] = len(thresholds) + 1\n",
    "    "
   ]
  },
  {
   "cell_type": "code",
   "execution_count": 87,
   "metadata": {},
   "outputs": [
    {
     "name": "stdout",
     "output_type": "stream",
     "text": [
      "(488, 488, 488)\n"
     ]
    }
   ],
   "source": [
    "object_mask = (clean_label == 700)\n",
    "svt = _summed_volume_table(object_mask) # shape = [521, 521, 521]\n",
    "active_fraction = _query_summed_volume(svt, lom_diam_zyx) / float(fov_volume)\n",
    "print(active_fraction.shape)"
   ]
  },
  {
   "cell_type": "code",
   "execution_count": 34,
   "metadata": {},
   "outputs": [
    {
     "data": {
      "text/plain": [
       "{0, 1, 2, 3, 4}"
      ]
     },
     "execution_count": 34,
     "metadata": {},
     "output_type": "execute_result"
    }
   ],
   "source": [
    "labels"
   ]
  },
  {
   "cell_type": "code",
   "execution_count": 27,
   "metadata": {},
   "outputs": [
    {
     "data": {
      "text/plain": [
       "33"
      ]
     },
     "execution_count": 27,
     "metadata": {},
     "output_type": "execute_result"
    }
   ],
   "source": [
    "diam = lom_diam_zyx\n",
    "\n",
    "svt[diam[0]:, diam[1]:, diam[2]:].shape\n",
    "diam[0]"
   ]
  },
  {
   "cell_type": "code",
   "execution_count": 18,
   "metadata": {
    "collapsed": true
   },
   "outputs": [
    {
     "data": {
      "text/plain": [
       "array([[[0, 0, 0, ..., 0, 0, 0],\n",
       "        [0, 0, 0, ..., 0, 0, 0],\n",
       "        [0, 0, 0, ..., 0, 0, 0],\n",
       "        ..., \n",
       "        [0, 0, 0, ..., 0, 0, 0],\n",
       "        [0, 0, 0, ..., 0, 0, 0],\n",
       "        [0, 0, 0, ..., 0, 0, 0]],\n",
       "\n",
       "       [[0, 0, 0, ..., 0, 0, 0],\n",
       "        [0, 0, 0, ..., 0, 0, 0],\n",
       "        [0, 0, 0, ..., 0, 0, 0],\n",
       "        ..., \n",
       "        [0, 0, 0, ..., 0, 0, 0],\n",
       "        [0, 0, 0, ..., 0, 0, 0],\n",
       "        [0, 0, 0, ..., 0, 0, 0]],\n",
       "\n",
       "       [[0, 0, 0, ..., 0, 0, 0],\n",
       "        [0, 0, 0, ..., 0, 0, 0],\n",
       "        [0, 0, 0, ..., 0, 0, 0],\n",
       "        ..., \n",
       "        [0, 0, 0, ..., 0, 0, 0],\n",
       "        [0, 0, 0, ..., 0, 0, 0],\n",
       "        [0, 0, 0, ..., 0, 0, 0]],\n",
       "\n",
       "       ..., \n",
       "       [[0, 0, 0, ..., 0, 0, 0],\n",
       "        [0, 0, 0, ..., 0, 0, 0],\n",
       "        [0, 0, 0, ..., 0, 0, 0],\n",
       "        ..., \n",
       "        [0, 0, 0, ..., 0, 0, 0],\n",
       "        [0, 0, 0, ..., 0, 0, 0],\n",
       "        [0, 0, 0, ..., 0, 0, 0]],\n",
       "\n",
       "       [[0, 0, 0, ..., 0, 0, 0],\n",
       "        [0, 0, 0, ..., 0, 0, 0],\n",
       "        [0, 0, 0, ..., 0, 0, 0],\n",
       "        ..., \n",
       "        [0, 0, 0, ..., 0, 0, 0],\n",
       "        [0, 0, 0, ..., 0, 0, 0],\n",
       "        [0, 0, 0, ..., 0, 0, 0]],\n",
       "\n",
       "       [[0, 0, 0, ..., 0, 0, 0],\n",
       "        [0, 0, 0, ..., 0, 0, 0],\n",
       "        [0, 0, 0, ..., 0, 0, 0],\n",
       "        ..., \n",
       "        [0, 0, 0, ..., 0, 0, 0],\n",
       "        [0, 0, 0, ..., 0, 0, 0],\n",
       "        [0, 0, 0, ..., 0, 0, 0]]])"
      ]
     },
     "execution_count": 18,
     "metadata": {},
     "output_type": "execute_result"
    }
   ],
   "source": [
    "object_mask = (clean_label ==4746)\n",
    "svt = _summed_volume_table(object_mask)\n",
    "active_fraction = _query_summed_volume(svt, lom_diam_zyx)\n",
    "active_fraction"
   ]
  },
  {
   "cell_type": "code",
   "execution_count": 19,
   "metadata": {},
   "outputs": [
    {
     "data": {
      "text/plain": [
       "(488, 488, 488)"
      ]
     },
     "execution_count": 19,
     "metadata": {},
     "output_type": "execute_result"
    }
   ],
   "source": [
    "active_fraction.shape"
   ]
  },
  {
   "cell_type": "code",
   "execution_count": 23,
   "metadata": {},
   "outputs": [
    {
     "data": {
      "text/plain": [
       "0"
      ]
     },
     "execution_count": 23,
     "metadata": {},
     "output_type": "execute_result"
    }
   ],
   "source": [
    "active_fraction[0, 0, 0]"
   ]
  },
  {
   "cell_type": "code",
   "execution_count": null,
   "metadata": {},
   "outputs": [],
   "source": []
  },
  {
   "cell_type": "code",
   "execution_count": 110,
   "metadata": {},
   "outputs": [],
   "source": [
    "np.random.seed(3)\n",
    "z, y, x = np.random.randint(0+24, 520-24, 3)\n"
   ]
  },
  {
   "cell_type": "code",
   "execution_count": 111,
   "metadata": {},
   "outputs": [
    {
     "data": {
      "text/plain": [
       "58969"
      ]
     },
     "execution_count": 111,
     "metadata": {},
     "output_type": "execute_result"
    }
   ],
   "source": [
    "clean_label[z, y, x]\n"
   ]
  },
  {
   "cell_type": "code",
   "execution_count": 119,
   "metadata": {},
   "outputs": [
    {
     "data": {
      "text/plain": [
       "(49, 49, 49)"
      ]
     },
     "execution_count": 119,
     "metadata": {},
     "output_type": "execute_result"
    }
   ],
   "source": [
    "bbox = clean_label[z-24:z+25, y-24:y+25, x-24:x+25]\n",
    "bbox.shape"
   ]
  },
  {
   "cell_type": "code",
   "execution_count": 121,
   "metadata": {},
   "outputs": [],
   "source": [
    "fraction = float(bbox[np.where(bbox == clean_label[z,y,x])].shape[0]) / 49.0**3"
   ]
  },
  {
   "cell_type": "code",
   "execution_count": null,
   "metadata": {},
   "outputs": [],
   "source": []
  }
 ],
 "metadata": {
  "kernelspec": {
   "display_name": "Python 2",
   "language": "python",
   "name": "python2"
  },
  "language_info": {
   "codemirror_mode": {
    "name": "ipython",
    "version": 2
   },
   "file_extension": ".py",
   "mimetype": "text/x-python",
   "name": "python",
   "nbconvert_exporter": "python",
   "pygments_lexer": "ipython2",
   "version": "2.7.12"
  }
 },
 "nbformat": 4,
 "nbformat_minor": 2
}
